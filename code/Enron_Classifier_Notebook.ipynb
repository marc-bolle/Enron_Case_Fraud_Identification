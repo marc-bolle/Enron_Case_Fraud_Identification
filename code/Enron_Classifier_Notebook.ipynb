{
 "cells": [
  {
   "cell_type": "markdown",
   "id": "9d225110-931c-4e18-a5d4-54c25b97cbe6",
   "metadata": {},
   "source": [
    "<h2>Machine Learning to Identify Fraud in the Enron Corpus</h2>"
   ]
  },
  {
   "cell_type": "code",
   "execution_count": 1,
   "id": "df72db4d-7ecd-4cac-a2a1-fa16c848a7dc",
   "metadata": {
    "tags": []
   },
   "outputs": [],
   "source": [
    "# Import the required packages \n",
    "import sys\n",
    "import pickle\n",
    "sys.path.append(\"../tools/\")\n",
    "from feature_format import featureFormat, targetFeatureSplit\n",
    "#from tester import dump_classifier_and_data\n",
    "import pandas as pd\n",
    "import sys\n",
    "import pickle\n",
    "import csv\n",
    "import matplotlib.pyplot as plt\n",
    "import numpy as np\n",
    "from numpy import mean\n",
    "from scipy import stats \n",
    "\n",
    "sys.path.append(\"../tools/\")\n",
    "from feature_format import featureFormat, targetFeatureSplit\n",
    "#from poi_data import *\n",
    "from sklearn.feature_selection import SelectKBest\n",
    "from sklearn.pipeline import Pipeline\n",
    "from sklearn.preprocessing import StandardScaler\n",
    "from sklearn.model_selection import StratifiedShuffleSplit\n",
    "from sklearn.model_selection import train_test_split\n",
    "from sklearn.model_selection import cross_validate\n",
    "from sklearn.model_selection import cross_val_score\n",
    "from sklearn.metrics import accuracy_score, precision_score, recall_score\n",
    "from sklearn.linear_model import LogisticRegression\n",
    "from sklearn.impute import SimpleImputer\n",
    "from sklearn.impute import KNNImputer\n",
    "from sklearn.experimental import enable_iterative_imputer\n",
    "from sklearn.model_selection import GridSearchCV\n",
    "from sklearn.metrics import accuracy_score, precision_score, recall_score, f1_score, make_scorer, confusion_matrix\n",
    "from sklearn.model_selection import StratifiedKFold\n",
    "\n",
    "import warnings \n",
    "warnings.filterwarnings(\"ignore\")"
   ]
  },
  {
   "cell_type": "markdown",
   "id": "83cae145-ebba-44b6-963e-d0503194d91c",
   "metadata": {
    "tags": []
   },
   "source": [
    "<h2>Task 1: Explore the data</h2>\n",
    "<h3>1.1 Data exploration</h3>\n",
    "<p>Features of this dataset fall into three major types:<br>- POI label, as the target feature,<br>- Financial features,<br>- Email features</p>"
   ]
  },
  {
   "cell_type": "code",
   "execution_count": 2,
   "id": "f7fcccb6-9cf8-4f83-8518-a5be03c38c9e",
   "metadata": {},
   "outputs": [
    {
     "name": "stdout",
     "output_type": "stream",
     "text": [
      "['poi', 'bonus', 'deferral_payments', 'deferred_income', 'director_fees', 'exercised_stock_options', 'expenses', 'loan_advances', 'long_term_incentive', 'other', 'restricted_stock', 'restricted_stock_deferred', 'salary', 'total_payments', 'total_stock_value', 'from_messages', 'from_poi_to_this_person', 'from_this_person_to_poi', 'shared_receipt_with_poi', 'to_messages']\n"
     ]
    }
   ],
   "source": [
    "# Create the features list\n",
    "target_label = 'poi'\n",
    "\n",
    "email_features_list = [\n",
    "    'from_messages',\n",
    "    'from_poi_to_this_person',\n",
    "    'from_this_person_to_poi',\n",
    "    'shared_receipt_with_poi',\n",
    "    'to_messages',\n",
    "    ]\n",
    "    \n",
    "financial_features_list = [\n",
    "    'bonus',\n",
    "    'deferral_payments',\n",
    "    'deferred_income',\n",
    "    'director_fees',\n",
    "    'exercised_stock_options',\n",
    "    'expenses',\n",
    "    'loan_advances',\n",
    "    'long_term_incentive',\n",
    "    'other',\n",
    "    'restricted_stock',\n",
    "    'restricted_stock_deferred',\n",
    "    'salary',\n",
    "    'total_payments',\n",
    "    'total_stock_value',\n",
    "]\n",
    "\n",
    "features_list = [target_label] + financial_features_list + email_features_list\n",
    "\n",
    "print(features_list)"
   ]
  },
  {
   "cell_type": "code",
   "execution_count": 3,
   "id": "3e0b8217-e9b7-41d0-a6cd-d189663e2bb3",
   "metadata": {},
   "outputs": [],
   "source": [
    "# Load the dictionary containing the dataset\n",
    "with open(\"final_project_dataset.pkl\", \"rb\") as data_file:\n",
    "    data_dict = pickle.load(data_file)"
   ]
  },
  {
   "cell_type": "code",
   "execution_count": 4,
   "id": "a8f84114-be08-4586-be30-e133e4efe37b",
   "metadata": {},
   "outputs": [
    {
     "name": "stdout",
     "output_type": "stream",
     "text": [
      "Total number of data points: 146\n",
      "Number of Persons of Interest: 18\n",
      "Number of people without Person of Interest label: 128\n"
     ]
    }
   ],
   "source": [
    "# Dataset Exploration\n",
    "data_dict.keys()\n",
    "print('Total number of data points: %d' % len(data_dict.keys()))\n",
    "num_poi = 0\n",
    "for name in data_dict.keys():\n",
    "    if data_dict[name]['poi'] == True:\n",
    "        num_poi += 1\n",
    "print('Number of Persons of Interest: %d' % num_poi)\n",
    "print('Number of people without Person of Interest label: %d' % (len(data_dict.keys()) - num_poi))"
   ]
  },
  {
   "cell_type": "code",
   "execution_count": 5,
   "id": "96e09de4-19c9-47b5-b832-732a8e1f3233",
   "metadata": {},
   "outputs": [
    {
     "name": "stdout",
     "output_type": "stream",
     "text": [
      "Each person has 21 features available\n"
     ]
    }
   ],
   "source": [
    "# Feature Exploration\n",
    "all_features = data_dict['ALLEN PHILLIP K'].keys()\n",
    "print('Each person has %d features available' %  len(all_features))"
   ]
  },
  {
   "cell_type": "markdown",
   "id": "3b525fab-feed-4cc0-9607-843b684c4a3b",
   "metadata": {
    "tags": []
   },
   "source": [
    "<h3>1.2 Replace Missing Values</h3>"
   ]
  },
  {
   "cell_type": "code",
   "execution_count": 6,
   "id": "7c66b581-e942-4b23-8315-6ae2983b45cc",
   "metadata": {},
   "outputs": [
    {
     "name": "stdout",
     "output_type": "stream",
     "text": [
      "Number of Missing Values for Each Feature:\n",
      "salary: 51\n",
      "to_messages: 60\n",
      "deferral_payments: 107\n",
      "total_payments: 21\n",
      "loan_advances: 142\n",
      "bonus: 64\n",
      "email_address: 35\n",
      "restricted_stock_deferred: 128\n",
      "deferred_income: 97\n",
      "total_stock_value: 20\n",
      "expenses: 51\n",
      "from_poi_to_this_person: 60\n",
      "exercised_stock_options: 44\n",
      "from_messages: 60\n",
      "other: 53\n",
      "from_this_person_to_poi: 60\n",
      "poi: 0\n",
      "long_term_incentive: 80\n",
      "shared_receipt_with_poi: 60\n",
      "restricted_stock: 36\n",
      "director_fees: 129\n"
     ]
    }
   ],
   "source": [
    "# Evaluate dataset for completeness\n",
    "missing_values = {}\n",
    "for feature in all_features:\n",
    "    missing_values[feature] = 0\n",
    "\n",
    "for person in data_dict.keys():\n",
    "    records = 0\n",
    "    for feature in all_features:\n",
    "        if data_dict[person][feature] == 'NaN':\n",
    "            missing_values[feature] += 1\n",
    "        else:\n",
    "            records += 1\n",
    "\n",
    "# Print results of completeness analysis\n",
    "print('Number of Missing Values for Each Feature:')\n",
    "for feature in all_features:\n",
    "    print(\"%s: %d\" % (feature, missing_values[feature]))"
   ]
  },
  {
   "cell_type": "code",
   "execution_count": 7,
   "id": "98487df4-7846-4a75-a6e1-7b9a724d93dc",
   "metadata": {},
   "outputs": [
    {
     "data": {
      "text/plain": [
       "Text(0.5, 1.0, 'Number of missing values by feature')"
      ]
     },
     "execution_count": 7,
     "metadata": {},
     "output_type": "execute_result"
    },
    {
     "data": {
      "image/png": "[encoded data removed]",
      "text/plain": [
       "<Figure size 432x288 with 1 Axes>"
      ]
     },
     "metadata": {
      "needs_background": "light"
     },
     "output_type": "display_data"
    }
   ],
   "source": [
    "# Visualization of the missing values by feature\n",
    "missing_values_df = pd.DataFrame.from_dict(missing_values,orient='index')\n",
    "missing_values_df = missing_values_df.sort_values(by=[0])\n",
    "plt.barh(missing_values_df.index,missing_values_df[0])\n",
    "plt.title('Number of missing values by feature')"
   ]
  },
  {
   "cell_type": "markdown",
   "id": "a4a34f01-992e-4273-bf92-5b68d3b225b2",
   "metadata": {},
   "source": [
    "<p>This visualization reveals that there are lots of missing values in our dataset. There are even 5 features that have more than 100 missing data points out of 146. The features that contain the highest number of missing values are the financial features (loan_advances, director_fees, restricted_stock_deferred, derral_payments, deferred_income, etc.)</p><p>If I remove all the rows that contain missing values, the dataset would become much too small to train an accurate machine learning model. Thus, I will try to impute these missing values.</p>\n"
   ]
  },
  {
   "cell_type": "markdown",
   "id": "5e72dfd2-a6a1-439c-835e-b5292c3883bd",
   "metadata": {},
   "source": [
    "<h3>1.2.1 Replace Missing Values of the Financial Features</h3>\n",
    "<p>For the financial features in the financial_features_list, we can assume that the NaN values are zeros. For instance, an employee who do not receive director fees nor a bonus shouldn't have a NaN value but a 0. Thus, I will replace the NaN values in the financial features by zeros.\n",
    "<br>There is one exception for the salary feature where missing values can’t be zeros. I'll deal with it later on.</p>"
   ]
  },
  {
   "cell_type": "code",
   "execution_count": 8,
   "id": "992f0223-9ba3-4646-a02a-53963aece1dc",
   "metadata": {},
   "outputs": [
    {
     "data": {
      "text/plain": [
       "False"
      ]
     },
     "execution_count": 8,
     "metadata": {},
     "output_type": "execute_result"
    }
   ],
   "source": [
    "# Create a new financial_features_list without salary\n",
    "financial_features_na = financial_features_list.copy()\n",
    "financial_features_na.remove(\"salary\")\n",
    "\n",
    "# Check if the salary variable has been correctly removed \n",
    "\"salary\" in financial_features_na"
   ]
  },
  {
   "cell_type": "code",
   "execution_count": 9,
   "id": "1678b4c0-528e-45a2-85fb-d8e80245fab0",
   "metadata": {},
   "outputs": [],
   "source": [
    "# Replace NaN values of the financial features by zeros in the data_dict\n",
    "for employee in data_dict.keys():\n",
    "    for feature in financial_features_na:\n",
    "        if data_dict[employee][feature] == 'NaN':\n",
    "            data_dict[employee][feature] = 0"
   ]
  },
  {
   "cell_type": "code",
   "execution_count": 10,
   "id": "72520226-6075-4237-9312-99f0f7876384",
   "metadata": {},
   "outputs": [
    {
     "name": "stdout",
     "output_type": "stream",
     "text": [
      "Number of Missing Values for Financial Features: (except salary)\n",
      "bonus: 0\n",
      "deferral_payments: 0\n",
      "deferred_income: 0\n",
      "director_fees: 0\n",
      "exercised_stock_options: 0\n",
      "expenses: 0\n",
      "loan_advances: 0\n",
      "long_term_incentive: 0\n",
      "other: 0\n",
      "restricted_stock: 0\n",
      "restricted_stock_deferred: 0\n",
      "total_payments: 0\n",
      "total_stock_value: 0\n"
     ]
    }
   ],
   "source": [
    "# Check if the NaN values have been correctly replaced\n",
    "missing_financial_values = {}\n",
    "for feature in all_features:\n",
    "    missing_financial_values[feature] = 0\n",
    "\n",
    "for person in data_dict.keys():\n",
    "    records = 0\n",
    "    for feature in financial_features_na:\n",
    "        if data_dict[person][feature] == 'NaN':\n",
    "            missing_fiancial_values[feature] += 1\n",
    "        else:\n",
    "            records += 1\n",
    "            \n",
    "print(\"Number of Missing Values for Financial Features: (except salary)\")\n",
    "for feature in financial_features_na:\n",
    "    print(\"%s: %d\" % (feature, missing_financial_values[feature]))"
   ]
  },
  {
   "cell_type": "markdown",
   "id": "c136cd64-c440-485d-b673-4696f03256fd",
   "metadata": {},
   "source": [
    "<p> -> The missing values for the financial features (except salary) have correctly been remplaced by zeros.</p>"
   ]
  },
  {
   "cell_type": "markdown",
   "id": "dd31b807-2b32-4272-b390-9c0fbd7f84f7",
   "metadata": {},
   "source": [
    "<h3>1.2.2 Replace missing values of the Salary feature</h3>\n",
    "<p>There are 51 missing values in the salary feature. \n",
    "<br>A missing salary can't be a 0 since each employee should be paid a wage. We can assume that NaN values in the salary variable are true missing values. <br>I choose to replace the missing salaries by the mean of all the salaries: $267,102\n",
    "</p>"
   ]
  },
  {
   "cell_type": "code",
   "execution_count": 11,
   "id": "ef506125-b3da-49e4-8906-6caa2ed19433",
   "metadata": {},
   "outputs": [
    {
     "data": {
      "text/html": [
       "<div>\n",
       "<style scoped>\n",
       "    .dataframe tbody tr th:only-of-type {\n",
       "        vertical-align: middle;\n",
       "    }\n",
       "\n",
       "    .dataframe tbody tr th {\n",
       "        vertical-align: top;\n",
       "    }\n",
       "\n",
       "    .dataframe thead th {\n",
       "        text-align: right;\n",
       "    }\n",
       "</style>\n",
       "<table border=\"1\" class=\"dataframe\">\n",
       "  <thead>\n",
       "    <tr style=\"text-align: right;\">\n",
       "      <th></th>\n",
       "      <th>salary</th>\n",
       "      <th>to_messages</th>\n",
       "      <th>deferral_payments</th>\n",
       "      <th>total_payments</th>\n",
       "      <th>loan_advances</th>\n",
       "      <th>bonus</th>\n",
       "      <th>email_address</th>\n",
       "      <th>restricted_stock_deferred</th>\n",
       "      <th>deferred_income</th>\n",
       "      <th>total_stock_value</th>\n",
       "      <th>...</th>\n",
       "      <th>from_poi_to_this_person</th>\n",
       "      <th>exercised_stock_options</th>\n",
       "      <th>from_messages</th>\n",
       "      <th>other</th>\n",
       "      <th>from_this_person_to_poi</th>\n",
       "      <th>poi</th>\n",
       "      <th>long_term_incentive</th>\n",
       "      <th>shared_receipt_with_poi</th>\n",
       "      <th>restricted_stock</th>\n",
       "      <th>director_fees</th>\n",
       "    </tr>\n",
       "  </thead>\n",
       "  <tbody>\n",
       "    <tr>\n",
       "      <th>METTS MARK</th>\n",
       "      <td>365788</td>\n",
       "      <td>807</td>\n",
       "      <td>0</td>\n",
       "      <td>1061827</td>\n",
       "      <td>0</td>\n",
       "      <td>600000</td>\n",
       "      <td>mark.metts@enron.com</td>\n",
       "      <td>0</td>\n",
       "      <td>0</td>\n",
       "      <td>585062</td>\n",
       "      <td>...</td>\n",
       "      <td>38</td>\n",
       "      <td>0</td>\n",
       "      <td>29</td>\n",
       "      <td>1740</td>\n",
       "      <td>1</td>\n",
       "      <td>False</td>\n",
       "      <td>0</td>\n",
       "      <td>702</td>\n",
       "      <td>585062</td>\n",
       "      <td>0</td>\n",
       "    </tr>\n",
       "    <tr>\n",
       "      <th>BAXTER JOHN C</th>\n",
       "      <td>267102</td>\n",
       "      <td>NaN</td>\n",
       "      <td>1295738</td>\n",
       "      <td>5634343</td>\n",
       "      <td>0</td>\n",
       "      <td>1200000</td>\n",
       "      <td>NaN</td>\n",
       "      <td>0</td>\n",
       "      <td>-1386055</td>\n",
       "      <td>10623258</td>\n",
       "      <td>...</td>\n",
       "      <td>NaN</td>\n",
       "      <td>6680544</td>\n",
       "      <td>NaN</td>\n",
       "      <td>2660303</td>\n",
       "      <td>NaN</td>\n",
       "      <td>False</td>\n",
       "      <td>1586055</td>\n",
       "      <td>NaN</td>\n",
       "      <td>3942714</td>\n",
       "      <td>0</td>\n",
       "    </tr>\n",
       "    <tr>\n",
       "      <th>ELLIOTT STEVEN</th>\n",
       "      <td>170941</td>\n",
       "      <td>NaN</td>\n",
       "      <td>0</td>\n",
       "      <td>211725</td>\n",
       "      <td>0</td>\n",
       "      <td>350000</td>\n",
       "      <td>steven.elliott@enron.com</td>\n",
       "      <td>0</td>\n",
       "      <td>-400729</td>\n",
       "      <td>6678735</td>\n",
       "      <td>...</td>\n",
       "      <td>NaN</td>\n",
       "      <td>4890344</td>\n",
       "      <td>NaN</td>\n",
       "      <td>12961</td>\n",
       "      <td>NaN</td>\n",
       "      <td>False</td>\n",
       "      <td>0</td>\n",
       "      <td>NaN</td>\n",
       "      <td>1788391</td>\n",
       "      <td>0</td>\n",
       "    </tr>\n",
       "    <tr>\n",
       "      <th>CORDES WILLIAM R</th>\n",
       "      <td>NaN</td>\n",
       "      <td>764</td>\n",
       "      <td>0</td>\n",
       "      <td>0</td>\n",
       "      <td>0</td>\n",
       "      <td>0</td>\n",
       "      <td>bill.cordes@enron.com</td>\n",
       "      <td>0</td>\n",
       "      <td>0</td>\n",
       "      <td>1038185</td>\n",
       "      <td>...</td>\n",
       "      <td>10</td>\n",
       "      <td>651850</td>\n",
       "      <td>12</td>\n",
       "      <td>0</td>\n",
       "      <td>0</td>\n",
       "      <td>False</td>\n",
       "      <td>0</td>\n",
       "      <td>58</td>\n",
       "      <td>386335</td>\n",
       "      <td>0</td>\n",
       "    </tr>\n",
       "    <tr>\n",
       "      <th>HANNON KEVIN P</th>\n",
       "      <td>243293</td>\n",
       "      <td>1045</td>\n",
       "      <td>0</td>\n",
       "      <td>288682</td>\n",
       "      <td>0</td>\n",
       "      <td>1500000</td>\n",
       "      <td>kevin.hannon@enron.com</td>\n",
       "      <td>0</td>\n",
       "      <td>-3117011</td>\n",
       "      <td>6391065</td>\n",
       "      <td>...</td>\n",
       "      <td>32</td>\n",
       "      <td>5538001</td>\n",
       "      <td>32</td>\n",
       "      <td>11350</td>\n",
       "      <td>21</td>\n",
       "      <td>True</td>\n",
       "      <td>1617011</td>\n",
       "      <td>1035</td>\n",
       "      <td>853064</td>\n",
       "      <td>0</td>\n",
       "    </tr>\n",
       "  </tbody>\n",
       "</table>\n",
       "<p>5 rows × 21 columns</p>\n",
       "</div>"
      ],
      "text/plain": [
       "                  salary to_messages  deferral_payments  total_payments  \\\n",
       "METTS MARK        365788         807                  0         1061827   \n",
       "BAXTER JOHN C     267102         NaN            1295738         5634343   \n",
       "ELLIOTT STEVEN    170941         NaN                  0          211725   \n",
       "CORDES WILLIAM R     NaN         764                  0               0   \n",
       "HANNON KEVIN P    243293        1045                  0          288682   \n",
       "\n",
       "                  loan_advances    bonus             email_address  \\\n",
       "METTS MARK                    0   600000      mark.metts@enron.com   \n",
       "BAXTER JOHN C                 0  1200000                       NaN   \n",
       "ELLIOTT STEVEN                0   350000  steven.elliott@enron.com   \n",
       "CORDES WILLIAM R              0        0     bill.cordes@enron.com   \n",
       "HANNON KEVIN P                0  1500000    kevin.hannon@enron.com   \n",
       "\n",
       "                  restricted_stock_deferred  deferred_income  \\\n",
       "METTS MARK                                0                0   \n",
       "BAXTER JOHN C                             0         -1386055   \n",
       "ELLIOTT STEVEN                            0          -400729   \n",
       "CORDES WILLIAM R                          0                0   \n",
       "HANNON KEVIN P                            0         -3117011   \n",
       "\n",
       "                  total_stock_value  ...  from_poi_to_this_person  \\\n",
       "METTS MARK                   585062  ...                       38   \n",
       "BAXTER JOHN C              10623258  ...                      NaN   \n",
       "ELLIOTT STEVEN              6678735  ...                      NaN   \n",
       "CORDES WILLIAM R            1038185  ...                       10   \n",
       "HANNON KEVIN P              6391065  ...                       32   \n",
       "\n",
       "                 exercised_stock_options  from_messages    other  \\\n",
       "METTS MARK                             0             29     1740   \n",
       "BAXTER JOHN C                    6680544            NaN  2660303   \n",
       "ELLIOTT STEVEN                   4890344            NaN    12961   \n",
       "CORDES WILLIAM R                  651850             12        0   \n",
       "HANNON KEVIN P                   5538001             32    11350   \n",
       "\n",
       "                  from_this_person_to_poi    poi  long_term_incentive  \\\n",
       "METTS MARK                              1  False                    0   \n",
       "BAXTER JOHN C                         NaN  False              1586055   \n",
       "ELLIOTT STEVEN                        NaN  False                    0   \n",
       "CORDES WILLIAM R                        0  False                    0   \n",
       "HANNON KEVIN P                         21   True              1617011   \n",
       "\n",
       "                  shared_receipt_with_poi restricted_stock  director_fees  \n",
       "METTS MARK                            702           585062              0  \n",
       "BAXTER JOHN C                         NaN          3942714              0  \n",
       "ELLIOTT STEVEN                        NaN          1788391              0  \n",
       "CORDES WILLIAM R                       58           386335              0  \n",
       "HANNON KEVIN P                       1035           853064              0  \n",
       "\n",
       "[5 rows x 21 columns]"
      ]
     },
     "execution_count": 11,
     "metadata": {},
     "output_type": "execute_result"
    }
   ],
   "source": [
    "# Convert the data_dict dictionary to a Pandas dataframe \n",
    "enron_df = pd.DataFrame.from_dict(data_dict,orient='index')\n",
    "enron_df.head()"
   ]
  },
  {
   "cell_type": "code",
   "execution_count": 12,
   "id": "378aa72c-985f-468a-b244-7dc953099552",
   "metadata": {},
   "outputs": [
    {
     "data": {
      "text/plain": [
       "str"
      ]
     },
     "execution_count": 12,
     "metadata": {},
     "output_type": "execute_result"
    }
   ],
   "source": [
    "# Check the data type of the remaining NaN values for the emails features\n",
    "type(enron_df.loc[\"BAXTER JOHN C\", \"to_messages\"])"
   ]
  },
  {
   "cell_type": "markdown",
   "id": "0dbb4b09-15e9-473c-935b-2895636a4d58",
   "metadata": {},
   "source": [
    "<p>-> We can see that the NaN are of type string, which doesn't allow us to use the imputer function to deal with them. Thus, I will replace them with NaN values thanks to the pandas.replace() function</p>"
   ]
  },
  {
   "cell_type": "code",
   "execution_count": 13,
   "id": "46e273b7-f7cb-4382-b351-23d7f3409662",
   "metadata": {},
   "outputs": [],
   "source": [
    "# Convert NaN strings to np.NaN values (null values)\n",
    "enron_df = enron_df.replace(\"NaN\", np.NaN, regex=True)"
   ]
  },
  {
   "cell_type": "code",
   "execution_count": 14,
   "id": "c6db91fc-0af2-431e-855d-d55cbf309e1b",
   "metadata": {},
   "outputs": [
    {
     "data": {
      "text/plain": [
       "salary                       51\n",
       "to_messages                  60\n",
       "deferral_payments             0\n",
       "total_payments                0\n",
       "loan_advances                 0\n",
       "bonus                         0\n",
       "email_address                35\n",
       "restricted_stock_deferred     0\n",
       "deferred_income               0\n",
       "total_stock_value             0\n",
       "expenses                      0\n",
       "from_poi_to_this_person      60\n",
       "exercised_stock_options       0\n",
       "from_messages                60\n",
       "other                         0\n",
       "from_this_person_to_poi      60\n",
       "poi                           0\n",
       "long_term_incentive           0\n",
       "shared_receipt_with_poi      60\n",
       "restricted_stock              0\n",
       "director_fees                 0\n",
       "dtype: int64"
      ]
     },
     "execution_count": 14,
     "metadata": {},
     "output_type": "execute_result"
    }
   ],
   "source": [
    "# Check again the number of missing values by feature \n",
    "enron_df.isna().sum()"
   ]
  },
  {
   "cell_type": "code",
   "execution_count": 15,
   "id": "50c87576-b78a-4463-a0f0-afd01055546f",
   "metadata": {},
   "outputs": [],
   "source": [
    "# Replace Salary NaN by the mean \n",
    "enron_df['salary'].fillna(mean(enron_df['salary']), inplace=True)"
   ]
  },
  {
   "cell_type": "code",
   "execution_count": 16,
   "id": "73c0c078-41f7-4705-a84a-108d579b733d",
   "metadata": {},
   "outputs": [
    {
     "data": {
      "text/plain": [
       "0"
      ]
     },
     "execution_count": 16,
     "metadata": {},
     "output_type": "execute_result"
    }
   ],
   "source": [
    "# Check if NaN values have correctly been replaced\n",
    "enron_df['salary'].isna().sum()"
   ]
  },
  {
   "cell_type": "markdown",
   "id": "d64f0285-1f51-493f-8e82-47b5433b32c6",
   "metadata": {
    "tags": []
   },
   "source": [
    "<h3>1.2.3 Replace Missing Values of the Email features</h3>\n",
    "<p>The email features are very important because they show the degree of relationship between POI and non-POI employees. Replacing these values by the mean or the median or the most common value of the given columns doesn't appear as an effective solution in this case.</p>\n",
    "<p>I choose to impute these missing values using Scikit Learn's KNNImputer function. It uses the k-nearest Neighbors algorithm to impute the missing values using the mean value of the nearest neighbors found in the dataset. \n",
    "</p>\n"
   ]
  },
  {
   "cell_type": "code",
   "execution_count": 17,
   "id": "a21f05d3-31c8-474e-89fe-1fa59b594f8a",
   "metadata": {},
   "outputs": [
    {
     "data": {
      "text/html": [
       "<div>\n",
       "<style scoped>\n",
       "    .dataframe tbody tr th:only-of-type {\n",
       "        vertical-align: middle;\n",
       "    }\n",
       "\n",
       "    .dataframe tbody tr th {\n",
       "        vertical-align: top;\n",
       "    }\n",
       "\n",
       "    .dataframe thead th {\n",
       "        text-align: right;\n",
       "    }\n",
       "</style>\n",
       "<table border=\"1\" class=\"dataframe\">\n",
       "  <thead>\n",
       "    <tr style=\"text-align: right;\">\n",
       "      <th></th>\n",
       "      <th>to_messages</th>\n",
       "      <th>deferral_payments</th>\n",
       "      <th>total_payments</th>\n",
       "      <th>loan_advances</th>\n",
       "      <th>bonus</th>\n",
       "      <th>restricted_stock_deferred</th>\n",
       "      <th>deferred_income</th>\n",
       "      <th>total_stock_value</th>\n",
       "      <th>expenses</th>\n",
       "      <th>from_poi_to_this_person</th>\n",
       "      <th>exercised_stock_options</th>\n",
       "      <th>from_messages</th>\n",
       "      <th>other</th>\n",
       "      <th>from_this_person_to_poi</th>\n",
       "      <th>long_term_incentive</th>\n",
       "      <th>shared_receipt_with_poi</th>\n",
       "      <th>restricted_stock</th>\n",
       "      <th>director_fees</th>\n",
       "    </tr>\n",
       "  </thead>\n",
       "  <tbody>\n",
       "    <tr>\n",
       "      <th>METTS MARK</th>\n",
       "      <td>807.0</td>\n",
       "      <td>0</td>\n",
       "      <td>1061827</td>\n",
       "      <td>0</td>\n",
       "      <td>600000</td>\n",
       "      <td>0</td>\n",
       "      <td>0</td>\n",
       "      <td>585062</td>\n",
       "      <td>94299</td>\n",
       "      <td>38.0</td>\n",
       "      <td>0</td>\n",
       "      <td>29.0</td>\n",
       "      <td>1740</td>\n",
       "      <td>1.0</td>\n",
       "      <td>0</td>\n",
       "      <td>702.0</td>\n",
       "      <td>585062</td>\n",
       "      <td>0</td>\n",
       "    </tr>\n",
       "    <tr>\n",
       "      <th>BAXTER JOHN C</th>\n",
       "      <td>NaN</td>\n",
       "      <td>1295738</td>\n",
       "      <td>5634343</td>\n",
       "      <td>0</td>\n",
       "      <td>1200000</td>\n",
       "      <td>0</td>\n",
       "      <td>-1386055</td>\n",
       "      <td>10623258</td>\n",
       "      <td>11200</td>\n",
       "      <td>NaN</td>\n",
       "      <td>6680544</td>\n",
       "      <td>NaN</td>\n",
       "      <td>2660303</td>\n",
       "      <td>NaN</td>\n",
       "      <td>1586055</td>\n",
       "      <td>NaN</td>\n",
       "      <td>3942714</td>\n",
       "      <td>0</td>\n",
       "    </tr>\n",
       "    <tr>\n",
       "      <th>ELLIOTT STEVEN</th>\n",
       "      <td>NaN</td>\n",
       "      <td>0</td>\n",
       "      <td>211725</td>\n",
       "      <td>0</td>\n",
       "      <td>350000</td>\n",
       "      <td>0</td>\n",
       "      <td>-400729</td>\n",
       "      <td>6678735</td>\n",
       "      <td>78552</td>\n",
       "      <td>NaN</td>\n",
       "      <td>4890344</td>\n",
       "      <td>NaN</td>\n",
       "      <td>12961</td>\n",
       "      <td>NaN</td>\n",
       "      <td>0</td>\n",
       "      <td>NaN</td>\n",
       "      <td>1788391</td>\n",
       "      <td>0</td>\n",
       "    </tr>\n",
       "    <tr>\n",
       "      <th>CORDES WILLIAM R</th>\n",
       "      <td>764.0</td>\n",
       "      <td>0</td>\n",
       "      <td>0</td>\n",
       "      <td>0</td>\n",
       "      <td>0</td>\n",
       "      <td>0</td>\n",
       "      <td>0</td>\n",
       "      <td>1038185</td>\n",
       "      <td>0</td>\n",
       "      <td>10.0</td>\n",
       "      <td>651850</td>\n",
       "      <td>12.0</td>\n",
       "      <td>0</td>\n",
       "      <td>0.0</td>\n",
       "      <td>0</td>\n",
       "      <td>58.0</td>\n",
       "      <td>386335</td>\n",
       "      <td>0</td>\n",
       "    </tr>\n",
       "    <tr>\n",
       "      <th>HANNON KEVIN P</th>\n",
       "      <td>1045.0</td>\n",
       "      <td>0</td>\n",
       "      <td>288682</td>\n",
       "      <td>0</td>\n",
       "      <td>1500000</td>\n",
       "      <td>0</td>\n",
       "      <td>-3117011</td>\n",
       "      <td>6391065</td>\n",
       "      <td>34039</td>\n",
       "      <td>32.0</td>\n",
       "      <td>5538001</td>\n",
       "      <td>32.0</td>\n",
       "      <td>11350</td>\n",
       "      <td>21.0</td>\n",
       "      <td>1617011</td>\n",
       "      <td>1035.0</td>\n",
       "      <td>853064</td>\n",
       "      <td>0</td>\n",
       "    </tr>\n",
       "    <tr>\n",
       "      <th>...</th>\n",
       "      <td>...</td>\n",
       "      <td>...</td>\n",
       "      <td>...</td>\n",
       "      <td>...</td>\n",
       "      <td>...</td>\n",
       "      <td>...</td>\n",
       "      <td>...</td>\n",
       "      <td>...</td>\n",
       "      <td>...</td>\n",
       "      <td>...</td>\n",
       "      <td>...</td>\n",
       "      <td>...</td>\n",
       "      <td>...</td>\n",
       "      <td>...</td>\n",
       "      <td>...</td>\n",
       "      <td>...</td>\n",
       "      <td>...</td>\n",
       "      <td>...</td>\n",
       "    </tr>\n",
       "    <tr>\n",
       "      <th>GRAMM WENDY L</th>\n",
       "      <td>NaN</td>\n",
       "      <td>0</td>\n",
       "      <td>119292</td>\n",
       "      <td>0</td>\n",
       "      <td>0</td>\n",
       "      <td>0</td>\n",
       "      <td>0</td>\n",
       "      <td>0</td>\n",
       "      <td>0</td>\n",
       "      <td>NaN</td>\n",
       "      <td>0</td>\n",
       "      <td>NaN</td>\n",
       "      <td>0</td>\n",
       "      <td>NaN</td>\n",
       "      <td>0</td>\n",
       "      <td>NaN</td>\n",
       "      <td>0</td>\n",
       "      <td>119292</td>\n",
       "    </tr>\n",
       "    <tr>\n",
       "      <th>CAUSEY RICHARD A</th>\n",
       "      <td>1892.0</td>\n",
       "      <td>0</td>\n",
       "      <td>1868758</td>\n",
       "      <td>0</td>\n",
       "      <td>1000000</td>\n",
       "      <td>0</td>\n",
       "      <td>-235000</td>\n",
       "      <td>2502063</td>\n",
       "      <td>30674</td>\n",
       "      <td>58.0</td>\n",
       "      <td>0</td>\n",
       "      <td>49.0</td>\n",
       "      <td>307895</td>\n",
       "      <td>12.0</td>\n",
       "      <td>350000</td>\n",
       "      <td>1585.0</td>\n",
       "      <td>2502063</td>\n",
       "      <td>0</td>\n",
       "    </tr>\n",
       "    <tr>\n",
       "      <th>TAYLOR MITCHELL S</th>\n",
       "      <td>533.0</td>\n",
       "      <td>227449</td>\n",
       "      <td>1092663</td>\n",
       "      <td>0</td>\n",
       "      <td>600000</td>\n",
       "      <td>0</td>\n",
       "      <td>0</td>\n",
       "      <td>3745048</td>\n",
       "      <td>0</td>\n",
       "      <td>0.0</td>\n",
       "      <td>3181250</td>\n",
       "      <td>29.0</td>\n",
       "      <td>0</td>\n",
       "      <td>0.0</td>\n",
       "      <td>0</td>\n",
       "      <td>300.0</td>\n",
       "      <td>563798</td>\n",
       "      <td>0</td>\n",
       "    </tr>\n",
       "    <tr>\n",
       "      <th>DONAHUE JR JEFFREY M</th>\n",
       "      <td>865.0</td>\n",
       "      <td>0</td>\n",
       "      <td>875760</td>\n",
       "      <td>0</td>\n",
       "      <td>800000</td>\n",
       "      <td>0</td>\n",
       "      <td>-300000</td>\n",
       "      <td>1080988</td>\n",
       "      <td>96268</td>\n",
       "      <td>188.0</td>\n",
       "      <td>765920</td>\n",
       "      <td>22.0</td>\n",
       "      <td>891</td>\n",
       "      <td>11.0</td>\n",
       "      <td>0</td>\n",
       "      <td>772.0</td>\n",
       "      <td>315068</td>\n",
       "      <td>0</td>\n",
       "    </tr>\n",
       "    <tr>\n",
       "      <th>GLISAN JR BEN F</th>\n",
       "      <td>873.0</td>\n",
       "      <td>0</td>\n",
       "      <td>1272284</td>\n",
       "      <td>0</td>\n",
       "      <td>600000</td>\n",
       "      <td>0</td>\n",
       "      <td>0</td>\n",
       "      <td>778546</td>\n",
       "      <td>125978</td>\n",
       "      <td>52.0</td>\n",
       "      <td>384728</td>\n",
       "      <td>16.0</td>\n",
       "      <td>200308</td>\n",
       "      <td>6.0</td>\n",
       "      <td>71023</td>\n",
       "      <td>874.0</td>\n",
       "      <td>393818</td>\n",
       "      <td>0</td>\n",
       "    </tr>\n",
       "  </tbody>\n",
       "</table>\n",
       "<p>146 rows × 18 columns</p>\n",
       "</div>"
      ],
      "text/plain": [
       "                      to_messages  deferral_payments  total_payments  \\\n",
       "METTS MARK                  807.0                  0         1061827   \n",
       "BAXTER JOHN C                 NaN            1295738         5634343   \n",
       "ELLIOTT STEVEN                NaN                  0          211725   \n",
       "CORDES WILLIAM R            764.0                  0               0   \n",
       "HANNON KEVIN P             1045.0                  0          288682   \n",
       "...                           ...                ...             ...   \n",
       "GRAMM WENDY L                 NaN                  0          119292   \n",
       "CAUSEY RICHARD A           1892.0                  0         1868758   \n",
       "TAYLOR MITCHELL S           533.0             227449         1092663   \n",
       "DONAHUE JR JEFFREY M        865.0                  0          875760   \n",
       "GLISAN JR BEN F             873.0                  0         1272284   \n",
       "\n",
       "                      loan_advances    bonus  restricted_stock_deferred  \\\n",
       "METTS MARK                        0   600000                          0   \n",
       "BAXTER JOHN C                     0  1200000                          0   \n",
       "ELLIOTT STEVEN                    0   350000                          0   \n",
       "CORDES WILLIAM R                  0        0                          0   \n",
       "HANNON KEVIN P                    0  1500000                          0   \n",
       "...                             ...      ...                        ...   \n",
       "GRAMM WENDY L                     0        0                          0   \n",
       "CAUSEY RICHARD A                  0  1000000                          0   \n",
       "TAYLOR MITCHELL S                 0   600000                          0   \n",
       "DONAHUE JR JEFFREY M              0   800000                          0   \n",
       "GLISAN JR BEN F                   0   600000                          0   \n",
       "\n",
       "                      deferred_income  total_stock_value  expenses  \\\n",
       "METTS MARK                          0             585062     94299   \n",
       "BAXTER JOHN C                -1386055           10623258     11200   \n",
       "ELLIOTT STEVEN                -400729            6678735     78552   \n",
       "CORDES WILLIAM R                    0            1038185         0   \n",
       "HANNON KEVIN P               -3117011            6391065     34039   \n",
       "...                               ...                ...       ...   \n",
       "GRAMM WENDY L                       0                  0         0   \n",
       "CAUSEY RICHARD A              -235000            2502063     30674   \n",
       "TAYLOR MITCHELL S                   0            3745048         0   \n",
       "DONAHUE JR JEFFREY M          -300000            1080988     96268   \n",
       "GLISAN JR BEN F                     0             778546    125978   \n",
       "\n",
       "                      from_poi_to_this_person  exercised_stock_options  \\\n",
       "METTS MARK                               38.0                        0   \n",
       "BAXTER JOHN C                             NaN                  6680544   \n",
       "ELLIOTT STEVEN                            NaN                  4890344   \n",
       "CORDES WILLIAM R                         10.0                   651850   \n",
       "HANNON KEVIN P                           32.0                  5538001   \n",
       "...                                       ...                      ...   \n",
       "GRAMM WENDY L                             NaN                        0   \n",
       "CAUSEY RICHARD A                         58.0                        0   \n",
       "TAYLOR MITCHELL S                         0.0                  3181250   \n",
       "DONAHUE JR JEFFREY M                    188.0                   765920   \n",
       "GLISAN JR BEN F                          52.0                   384728   \n",
       "\n",
       "                      from_messages    other  from_this_person_to_poi  \\\n",
       "METTS MARK                     29.0     1740                      1.0   \n",
       "BAXTER JOHN C                   NaN  2660303                      NaN   \n",
       "ELLIOTT STEVEN                  NaN    12961                      NaN   \n",
       "CORDES WILLIAM R               12.0        0                      0.0   \n",
       "HANNON KEVIN P                 32.0    11350                     21.0   \n",
       "...                             ...      ...                      ...   \n",
       "GRAMM WENDY L                   NaN        0                      NaN   \n",
       "CAUSEY RICHARD A               49.0   307895                     12.0   \n",
       "TAYLOR MITCHELL S              29.0        0                      0.0   \n",
       "DONAHUE JR JEFFREY M           22.0      891                     11.0   \n",
       "GLISAN JR BEN F                16.0   200308                      6.0   \n",
       "\n",
       "                      long_term_incentive  shared_receipt_with_poi  \\\n",
       "METTS MARK                              0                    702.0   \n",
       "BAXTER JOHN C                     1586055                      NaN   \n",
       "ELLIOTT STEVEN                          0                      NaN   \n",
       "CORDES WILLIAM R                        0                     58.0   \n",
       "HANNON KEVIN P                    1617011                   1035.0   \n",
       "...                                   ...                      ...   \n",
       "GRAMM WENDY L                           0                      NaN   \n",
       "CAUSEY RICHARD A                   350000                   1585.0   \n",
       "TAYLOR MITCHELL S                       0                    300.0   \n",
       "DONAHUE JR JEFFREY M                    0                    772.0   \n",
       "GLISAN JR BEN F                     71023                    874.0   \n",
       "\n",
       "                      restricted_stock  director_fees  \n",
       "METTS MARK                      585062              0  \n",
       "BAXTER JOHN C                  3942714              0  \n",
       "ELLIOTT STEVEN                 1788391              0  \n",
       "CORDES WILLIAM R                386335              0  \n",
       "HANNON KEVIN P                  853064              0  \n",
       "...                                ...            ...  \n",
       "GRAMM WENDY L                        0         119292  \n",
       "CAUSEY RICHARD A               2502063              0  \n",
       "TAYLOR MITCHELL S               563798              0  \n",
       "DONAHUE JR JEFFREY M            315068              0  \n",
       "GLISAN JR BEN F                 393818              0  \n",
       "\n",
       "[146 rows x 18 columns]"
      ]
     },
     "execution_count": 17,
     "metadata": {},
     "output_type": "execute_result"
    }
   ],
   "source": [
    "# New data frame without email_adress (object), POI (bool), and salary variables\n",
    "enron_df_imputation = enron_df[['to_messages', 'deferral_payments', 'total_payments', 'loan_advances', 'bonus', 'restricted_stock_deferred', 'deferred_income', 'total_stock_value', 'expenses', 'from_poi_to_this_person', 'exercised_stock_options', 'from_messages', 'other', 'from_this_person_to_poi', 'long_term_incentive', 'shared_receipt_with_poi', 'restricted_stock', 'director_fees']]\n",
    "enron_df_imputation.set_index(enron_df.index.copy())"
   ]
  },
  {
   "cell_type": "code",
   "execution_count": 18,
   "id": "b99df01c-46f9-4bff-9ae1-f39f953f4145",
   "metadata": {},
   "outputs": [],
   "source": [
    "# Imputation of remaining NaN values in the dataset with the KNN Imputer function with n=5\n",
    "imputer = KNNImputer(n_neighbors=5)\n",
    "imputed = imputer.fit_transform(enron_df_imputation)\n",
    "enron_df_imputed = pd.DataFrame(imputed, columns=enron_df_imputation.columns)"
   ]
  },
  {
   "cell_type": "code",
   "execution_count": 19,
   "id": "58151539-e45b-46cb-9a09-41d74791cc4b",
   "metadata": {},
   "outputs": [
    {
     "data": {
      "text/html": [
       "<div>\n",
       "<style scoped>\n",
       "    .dataframe tbody tr th:only-of-type {\n",
       "        vertical-align: middle;\n",
       "    }\n",
       "\n",
       "    .dataframe tbody tr th {\n",
       "        vertical-align: top;\n",
       "    }\n",
       "\n",
       "    .dataframe thead th {\n",
       "        text-align: right;\n",
       "    }\n",
       "</style>\n",
       "<table border=\"1\" class=\"dataframe\">\n",
       "  <thead>\n",
       "    <tr style=\"text-align: right;\">\n",
       "      <th></th>\n",
       "      <th>to_messages</th>\n",
       "      <th>deferral_payments</th>\n",
       "      <th>total_payments</th>\n",
       "      <th>loan_advances</th>\n",
       "      <th>bonus</th>\n",
       "      <th>restricted_stock_deferred</th>\n",
       "      <th>deferred_income</th>\n",
       "      <th>total_stock_value</th>\n",
       "      <th>expenses</th>\n",
       "      <th>from_poi_to_this_person</th>\n",
       "      <th>exercised_stock_options</th>\n",
       "      <th>from_messages</th>\n",
       "      <th>other</th>\n",
       "      <th>from_this_person_to_poi</th>\n",
       "      <th>long_term_incentive</th>\n",
       "      <th>shared_receipt_with_poi</th>\n",
       "      <th>restricted_stock</th>\n",
       "      <th>director_fees</th>\n",
       "    </tr>\n",
       "  </thead>\n",
       "  <tbody>\n",
       "    <tr>\n",
       "      <th>0</th>\n",
       "      <td>807.0</td>\n",
       "      <td>0.0</td>\n",
       "      <td>1061827.0</td>\n",
       "      <td>0.0</td>\n",
       "      <td>600000.0</td>\n",
       "      <td>0.0</td>\n",
       "      <td>0.0</td>\n",
       "      <td>585062.0</td>\n",
       "      <td>94299.0</td>\n",
       "      <td>38.0</td>\n",
       "      <td>0.0</td>\n",
       "      <td>29.0</td>\n",
       "      <td>1740.0</td>\n",
       "      <td>1.0</td>\n",
       "      <td>0.0</td>\n",
       "      <td>702.0</td>\n",
       "      <td>585062.0</td>\n",
       "      <td>0.0</td>\n",
       "    </tr>\n",
       "    <tr>\n",
       "      <th>1</th>\n",
       "      <td>2343.4</td>\n",
       "      <td>1295738.0</td>\n",
       "      <td>5634343.0</td>\n",
       "      <td>0.0</td>\n",
       "      <td>1200000.0</td>\n",
       "      <td>0.0</td>\n",
       "      <td>-1386055.0</td>\n",
       "      <td>10623258.0</td>\n",
       "      <td>11200.0</td>\n",
       "      <td>67.8</td>\n",
       "      <td>6680544.0</td>\n",
       "      <td>540.6</td>\n",
       "      <td>2660303.0</td>\n",
       "      <td>12.8</td>\n",
       "      <td>1586055.0</td>\n",
       "      <td>1409.4</td>\n",
       "      <td>3942714.0</td>\n",
       "      <td>0.0</td>\n",
       "    </tr>\n",
       "    <tr>\n",
       "      <th>2</th>\n",
       "      <td>843.8</td>\n",
       "      <td>0.0</td>\n",
       "      <td>211725.0</td>\n",
       "      <td>0.0</td>\n",
       "      <td>350000.0</td>\n",
       "      <td>0.0</td>\n",
       "      <td>-400729.0</td>\n",
       "      <td>6678735.0</td>\n",
       "      <td>78552.0</td>\n",
       "      <td>58.4</td>\n",
       "      <td>4890344.0</td>\n",
       "      <td>93.8</td>\n",
       "      <td>12961.0</td>\n",
       "      <td>14.0</td>\n",
       "      <td>0.0</td>\n",
       "      <td>570.2</td>\n",
       "      <td>1788391.0</td>\n",
       "      <td>0.0</td>\n",
       "    </tr>\n",
       "    <tr>\n",
       "      <th>3</th>\n",
       "      <td>764.0</td>\n",
       "      <td>0.0</td>\n",
       "      <td>0.0</td>\n",
       "      <td>0.0</td>\n",
       "      <td>0.0</td>\n",
       "      <td>0.0</td>\n",
       "      <td>0.0</td>\n",
       "      <td>1038185.0</td>\n",
       "      <td>0.0</td>\n",
       "      <td>10.0</td>\n",
       "      <td>651850.0</td>\n",
       "      <td>12.0</td>\n",
       "      <td>0.0</td>\n",
       "      <td>0.0</td>\n",
       "      <td>0.0</td>\n",
       "      <td>58.0</td>\n",
       "      <td>386335.0</td>\n",
       "      <td>0.0</td>\n",
       "    </tr>\n",
       "    <tr>\n",
       "      <th>4</th>\n",
       "      <td>1045.0</td>\n",
       "      <td>0.0</td>\n",
       "      <td>288682.0</td>\n",
       "      <td>0.0</td>\n",
       "      <td>1500000.0</td>\n",
       "      <td>0.0</td>\n",
       "      <td>-3117011.0</td>\n",
       "      <td>6391065.0</td>\n",
       "      <td>34039.0</td>\n",
       "      <td>32.0</td>\n",
       "      <td>5538001.0</td>\n",
       "      <td>32.0</td>\n",
       "      <td>11350.0</td>\n",
       "      <td>21.0</td>\n",
       "      <td>1617011.0</td>\n",
       "      <td>1035.0</td>\n",
       "      <td>853064.0</td>\n",
       "      <td>0.0</td>\n",
       "    </tr>\n",
       "    <tr>\n",
       "      <th>...</th>\n",
       "      <td>...</td>\n",
       "      <td>...</td>\n",
       "      <td>...</td>\n",
       "      <td>...</td>\n",
       "      <td>...</td>\n",
       "      <td>...</td>\n",
       "      <td>...</td>\n",
       "      <td>...</td>\n",
       "      <td>...</td>\n",
       "      <td>...</td>\n",
       "      <td>...</td>\n",
       "      <td>...</td>\n",
       "      <td>...</td>\n",
       "      <td>...</td>\n",
       "      <td>...</td>\n",
       "      <td>...</td>\n",
       "      <td>...</td>\n",
       "      <td>...</td>\n",
       "    </tr>\n",
       "    <tr>\n",
       "      <th>141</th>\n",
       "      <td>575.4</td>\n",
       "      <td>0.0</td>\n",
       "      <td>119292.0</td>\n",
       "      <td>0.0</td>\n",
       "      <td>0.0</td>\n",
       "      <td>0.0</td>\n",
       "      <td>0.0</td>\n",
       "      <td>0.0</td>\n",
       "      <td>0.0</td>\n",
       "      <td>7.8</td>\n",
       "      <td>0.0</td>\n",
       "      <td>21.8</td>\n",
       "      <td>0.0</td>\n",
       "      <td>1.0</td>\n",
       "      <td>0.0</td>\n",
       "      <td>188.0</td>\n",
       "      <td>0.0</td>\n",
       "      <td>119292.0</td>\n",
       "    </tr>\n",
       "    <tr>\n",
       "      <th>142</th>\n",
       "      <td>1892.0</td>\n",
       "      <td>0.0</td>\n",
       "      <td>1868758.0</td>\n",
       "      <td>0.0</td>\n",
       "      <td>1000000.0</td>\n",
       "      <td>0.0</td>\n",
       "      <td>-235000.0</td>\n",
       "      <td>2502063.0</td>\n",
       "      <td>30674.0</td>\n",
       "      <td>58.0</td>\n",
       "      <td>0.0</td>\n",
       "      <td>49.0</td>\n",
       "      <td>307895.0</td>\n",
       "      <td>12.0</td>\n",
       "      <td>350000.0</td>\n",
       "      <td>1585.0</td>\n",
       "      <td>2502063.0</td>\n",
       "      <td>0.0</td>\n",
       "    </tr>\n",
       "    <tr>\n",
       "      <th>143</th>\n",
       "      <td>533.0</td>\n",
       "      <td>227449.0</td>\n",
       "      <td>1092663.0</td>\n",
       "      <td>0.0</td>\n",
       "      <td>600000.0</td>\n",
       "      <td>0.0</td>\n",
       "      <td>0.0</td>\n",
       "      <td>3745048.0</td>\n",
       "      <td>0.0</td>\n",
       "      <td>0.0</td>\n",
       "      <td>3181250.0</td>\n",
       "      <td>29.0</td>\n",
       "      <td>0.0</td>\n",
       "      <td>0.0</td>\n",
       "      <td>0.0</td>\n",
       "      <td>300.0</td>\n",
       "      <td>563798.0</td>\n",
       "      <td>0.0</td>\n",
       "    </tr>\n",
       "    <tr>\n",
       "      <th>144</th>\n",
       "      <td>865.0</td>\n",
       "      <td>0.0</td>\n",
       "      <td>875760.0</td>\n",
       "      <td>0.0</td>\n",
       "      <td>800000.0</td>\n",
       "      <td>0.0</td>\n",
       "      <td>-300000.0</td>\n",
       "      <td>1080988.0</td>\n",
       "      <td>96268.0</td>\n",
       "      <td>188.0</td>\n",
       "      <td>765920.0</td>\n",
       "      <td>22.0</td>\n",
       "      <td>891.0</td>\n",
       "      <td>11.0</td>\n",
       "      <td>0.0</td>\n",
       "      <td>772.0</td>\n",
       "      <td>315068.0</td>\n",
       "      <td>0.0</td>\n",
       "    </tr>\n",
       "    <tr>\n",
       "      <th>145</th>\n",
       "      <td>873.0</td>\n",
       "      <td>0.0</td>\n",
       "      <td>1272284.0</td>\n",
       "      <td>0.0</td>\n",
       "      <td>600000.0</td>\n",
       "      <td>0.0</td>\n",
       "      <td>0.0</td>\n",
       "      <td>778546.0</td>\n",
       "      <td>125978.0</td>\n",
       "      <td>52.0</td>\n",
       "      <td>384728.0</td>\n",
       "      <td>16.0</td>\n",
       "      <td>200308.0</td>\n",
       "      <td>6.0</td>\n",
       "      <td>71023.0</td>\n",
       "      <td>874.0</td>\n",
       "      <td>393818.0</td>\n",
       "      <td>0.0</td>\n",
       "    </tr>\n",
       "  </tbody>\n",
       "</table>\n",
       "<p>146 rows × 18 columns</p>\n",
       "</div>"
      ],
      "text/plain": [
       "     to_messages  deferral_payments  total_payments  loan_advances      bonus  \\\n",
       "0          807.0                0.0       1061827.0            0.0   600000.0   \n",
       "1         2343.4          1295738.0       5634343.0            0.0  1200000.0   \n",
       "2          843.8                0.0        211725.0            0.0   350000.0   \n",
       "3          764.0                0.0             0.0            0.0        0.0   \n",
       "4         1045.0                0.0        288682.0            0.0  1500000.0   \n",
       "..           ...                ...             ...            ...        ...   \n",
       "141        575.4                0.0        119292.0            0.0        0.0   \n",
       "142       1892.0                0.0       1868758.0            0.0  1000000.0   \n",
       "143        533.0           227449.0       1092663.0            0.0   600000.0   \n",
       "144        865.0                0.0        875760.0            0.0   800000.0   \n",
       "145        873.0                0.0       1272284.0            0.0   600000.0   \n",
       "\n",
       "     restricted_stock_deferred  deferred_income  total_stock_value  expenses  \\\n",
       "0                          0.0              0.0           585062.0   94299.0   \n",
       "1                          0.0       -1386055.0         10623258.0   11200.0   \n",
       "2                          0.0        -400729.0          6678735.0   78552.0   \n",
       "3                          0.0              0.0          1038185.0       0.0   \n",
       "4                          0.0       -3117011.0          6391065.0   34039.0   \n",
       "..                         ...              ...                ...       ...   \n",
       "141                        0.0              0.0                0.0       0.0   \n",
       "142                        0.0        -235000.0          2502063.0   30674.0   \n",
       "143                        0.0              0.0          3745048.0       0.0   \n",
       "144                        0.0        -300000.0          1080988.0   96268.0   \n",
       "145                        0.0              0.0           778546.0  125978.0   \n",
       "\n",
       "     from_poi_to_this_person  exercised_stock_options  from_messages  \\\n",
       "0                       38.0                      0.0           29.0   \n",
       "1                       67.8                6680544.0          540.6   \n",
       "2                       58.4                4890344.0           93.8   \n",
       "3                       10.0                 651850.0           12.0   \n",
       "4                       32.0                5538001.0           32.0   \n",
       "..                       ...                      ...            ...   \n",
       "141                      7.8                      0.0           21.8   \n",
       "142                     58.0                      0.0           49.0   \n",
       "143                      0.0                3181250.0           29.0   \n",
       "144                    188.0                 765920.0           22.0   \n",
       "145                     52.0                 384728.0           16.0   \n",
       "\n",
       "         other  from_this_person_to_poi  long_term_incentive  \\\n",
       "0       1740.0                      1.0                  0.0   \n",
       "1    2660303.0                     12.8            1586055.0   \n",
       "2      12961.0                     14.0                  0.0   \n",
       "3          0.0                      0.0                  0.0   \n",
       "4      11350.0                     21.0            1617011.0   \n",
       "..         ...                      ...                  ...   \n",
       "141        0.0                      1.0                  0.0   \n",
       "142   307895.0                     12.0             350000.0   \n",
       "143        0.0                      0.0                  0.0   \n",
       "144      891.0                     11.0                  0.0   \n",
       "145   200308.0                      6.0              71023.0   \n",
       "\n",
       "     shared_receipt_with_poi  restricted_stock  director_fees  \n",
       "0                      702.0          585062.0            0.0  \n",
       "1                     1409.4         3942714.0            0.0  \n",
       "2                      570.2         1788391.0            0.0  \n",
       "3                       58.0          386335.0            0.0  \n",
       "4                     1035.0          853064.0            0.0  \n",
       "..                       ...               ...            ...  \n",
       "141                    188.0               0.0       119292.0  \n",
       "142                   1585.0         2502063.0            0.0  \n",
       "143                    300.0          563798.0            0.0  \n",
       "144                    772.0          315068.0            0.0  \n",
       "145                    874.0          393818.0            0.0  \n",
       "\n",
       "[146 rows x 18 columns]"
      ]
     },
     "execution_count": 19,
     "metadata": {},
     "output_type": "execute_result"
    }
   ],
   "source": [
    "# Check the imputation result \n",
    "enron_df_imputed"
   ]
  },
  {
   "cell_type": "code",
   "execution_count": 20,
   "id": "9943c397-db3e-43b5-a9c7-42523966485f",
   "metadata": {},
   "outputs": [
    {
     "data": {
      "text/plain": [
       "to_messages                  0\n",
       "deferral_payments            0\n",
       "total_payments               0\n",
       "loan_advances                0\n",
       "bonus                        0\n",
       "restricted_stock_deferred    0\n",
       "deferred_income              0\n",
       "total_stock_value            0\n",
       "expenses                     0\n",
       "from_poi_to_this_person      0\n",
       "exercised_stock_options      0\n",
       "from_messages                0\n",
       "other                        0\n",
       "from_this_person_to_poi      0\n",
       "long_term_incentive          0\n",
       "shared_receipt_with_poi      0\n",
       "restricted_stock             0\n",
       "director_fees                0\n",
       "dtype: int64"
      ]
     },
     "execution_count": 20,
     "metadata": {},
     "output_type": "execute_result"
    }
   ],
   "source": [
    "# Check the number of NaN values \n",
    "enron_df_imputed.isna().sum()"
   ]
  },
  {
   "cell_type": "markdown",
   "id": "87577ff9-76ad-4c7c-90a5-3ed46cf57fcf",
   "metadata": {},
   "source": [
    "<p>-> The imputer has correctly imputed the missing values of the email features<br>Missing values are only remaining in the <i>email_address</i> feature. This variable, composed of the email addresses of the employees, is of no interest for us to train the machine learning models. Thus, I will simply drop the entire column (by not re-inserting it).</p>"
   ]
  },
  {
   "cell_type": "markdown",
   "id": "20906b05-2988-4493-a46b-e4651d673e7b",
   "metadata": {},
   "source": [
    "<p>Now, we must recompose the dataframe and re-convert it to a dictionnary for further manipulation</p>"
   ]
  },
  {
   "cell_type": "code",
   "execution_count": 21,
   "id": "d3731494-603d-44a5-b9d0-68a5925e88b6",
   "metadata": {},
   "outputs": [],
   "source": [
    "# Recompose the dataframe\n",
    "final_df = enron_df_imputed.copy()\n",
    "final_df = final_df.set_index(enron_df.index.copy())\n",
    "final_df['poi'] = enron_df['poi'].copy()\n",
    "final_df['salary'] = enron_df['salary'].copy()"
   ]
  },
  {
   "cell_type": "code",
   "execution_count": 22,
   "id": "c0aa6c76-13c9-4c6d-a99a-b48210d1fcfd",
   "metadata": {},
   "outputs": [
    {
     "name": "stdout",
     "output_type": "stream",
     "text": [
      "(146, 20)\n",
      "Index(['to_messages', 'deferral_payments', 'total_payments', 'loan_advances',\n",
      "       'bonus', 'restricted_stock_deferred', 'deferred_income',\n",
      "       'total_stock_value', 'expenses', 'from_poi_to_this_person',\n",
      "       'exercised_stock_options', 'from_messages', 'other',\n",
      "       'from_this_person_to_poi', 'long_term_incentive',\n",
      "       'shared_receipt_with_poi', 'restricted_stock', 'director_fees', 'poi',\n",
      "       'salary'],\n",
      "      dtype='object')\n"
     ]
    }
   ],
   "source": [
    "# Check if we have correctly recomposed the dataframe\n",
    "print(final_df.shape)\n",
    "print(final_df.columns)"
   ]
  },
  {
   "cell_type": "code",
   "execution_count": 23,
   "id": "0d56650d-efd2-4a75-8969-f79a8fe8b63a",
   "metadata": {},
   "outputs": [],
   "source": [
    "# Convert the dataframe back into a dictionary data_dict\n",
    "data_dict = final_df.to_dict(orient='index')"
   ]
  },
  {
   "cell_type": "markdown",
   "id": "c5497af3-385e-4aa4-879f-e298c2fd4655",
   "metadata": {
    "tags": []
   },
   "source": [
    "<hr>\n",
    "<h2>Task 2: Remove Outliers</h2>"
   ]
  },
  {
   "cell_type": "markdown",
   "id": "e5cc32af-c71b-4bb7-b5a0-8749cb4daa95",
   "metadata": {},
   "source": [
    "<p>First of all, I remove the \"total row\" value since it distorts our data and it is not needed for our machine learning model.</p>"
   ]
  },
  {
   "cell_type": "code",
   "execution_count": 24,
   "id": "611ef556-f287-4dc5-83a8-4656223ed612",
   "metadata": {},
   "outputs": [
    {
     "data": {
      "text/plain": [
       "{'to_messages': 3867.8,\n",
       " 'deferral_payments': 32083396.0,\n",
       " 'total_payments': 309886585.0,\n",
       " 'loan_advances': 83925000.0,\n",
       " 'bonus': 97343619.0,\n",
       " 'restricted_stock_deferred': -7576788.0,\n",
       " 'deferred_income': -27992891.0,\n",
       " 'total_stock_value': 434509511.0,\n",
       " 'expenses': 5235198.0,\n",
       " 'from_poi_to_this_person': 204.6,\n",
       " 'exercised_stock_options': 311764000.0,\n",
       " 'from_messages': 553.6,\n",
       " 'other': 42667589.0,\n",
       " 'from_this_person_to_poi': 93.4,\n",
       " 'long_term_incentive': 48521928.0,\n",
       " 'shared_receipt_with_poi': 2451.6,\n",
       " 'restricted_stock': 130322299.0,\n",
       " 'director_fees': 1398517.0,\n",
       " 'poi': False,\n",
       " 'salary': 26704229.0}"
      ]
     },
     "execution_count": 24,
     "metadata": {},
     "output_type": "execute_result"
    }
   ],
   "source": [
    "data_dict.pop('TOTAL', 0 )"
   ]
  },
  {
   "cell_type": "code",
   "execution_count": 25,
   "id": "d531656c-22c2-49a4-b173-b90751e74cdd",
   "metadata": {},
   "outputs": [
    {
     "name": "stdout",
     "output_type": "stream",
     "text": [
      "Total number of data points: 145\n"
     ]
    }
   ],
   "source": [
    "# Check the number of data points in the dictionary before removing outliers \n",
    "data_dict.keys()\n",
    "print('Total number of data points: %d' % len(data_dict.keys()))"
   ]
  },
  {
   "cell_type": "markdown",
   "id": "c62d4633-4463-4aa1-8d98-4f488d1089e8",
   "metadata": {
    "tags": []
   },
   "source": [
    "<h3>2.1 Visualize Outliers</h3>"
   ]
  },
  {
   "cell_type": "code",
   "execution_count": 26,
   "id": "6f4fa159-2896-46ec-a6f2-8ff62f188754",
   "metadata": {},
   "outputs": [
    {
     "data": {
      "image/png": "[encoded data removed]",
      "text/plain": [
       "<Figure size 432x288 with 1 Axes>"
      ]
     },
     "metadata": {
      "needs_background": "light"
     },
     "output_type": "display_data"
    },
    {
     "name": "stdout",
     "output_type": "stream",
     "text": [
      "None\n"
     ]
    },
    {
     "data": {
      "image/png": "[encoded data removed]",
      "text/plain": [
       "<Figure size 432x288 with 1 Axes>"
      ]
     },
     "metadata": {
      "needs_background": "light"
     },
     "output_type": "display_data"
    },
    {
     "name": "stdout",
     "output_type": "stream",
     "text": [
      "None\n"
     ]
    },
    {
     "data": {
      "image/png": "[encoded data removed]",
      "text/plain": [
       "<Figure size 432x288 with 1 Axes>"
      ]
     },
     "metadata": {
      "needs_background": "light"
     },
     "output_type": "display_data"
    },
    {
     "name": "stdout",
     "output_type": "stream",
     "text": [
      "None\n"
     ]
    }
   ],
   "source": [
    "# Visualise outliers\n",
    "def PlotOutlier(data_dict, feature_x, feature_y):\n",
    "    \"\"\" Plot with flag = True in Red \"\"\"\n",
    "    data = featureFormat(data_dict, [feature_x, feature_y, 'poi'])\n",
    "    for point in data:\n",
    "        x = point[0]\n",
    "        y = point[1]\n",
    "        poi = point[2]\n",
    "        if poi:\n",
    "            color = 'red'\n",
    "        else:\n",
    "            color = 'blue'\n",
    "        plt.scatter(x, y, color=color)\n",
    "    plt.xlabel(feature_x)\n",
    "    plt.ylabel(feature_y)\n",
    "    plt.show()\n",
    "    \n",
    "print(PlotOutlier(data_dict, 'total_payments', 'total_stock_value'))\n",
    "print(PlotOutlier(data_dict, 'from_poi_to_this_person', 'from_this_person_to_poi'))\n",
    "print(PlotOutlier(data_dict, 'salary', 'bonus'))"
   ]
  },
  {
   "cell_type": "code",
   "execution_count": 45,
   "id": "c9a3643a-a559-4f25-91cb-3835b1c4bf30",
   "metadata": {},
   "outputs": [
    {
     "data": {
      "image/png": "[encoded data removed]",
      "text/plain": [
       "<Figure size 1800x720 with 1 Axes>"
      ]
     },
     "metadata": {
      "needs_background": "light"
     },
     "output_type": "display_data"
    }
   ],
   "source": [
    "# Convert the dictionary into a dataframe to produce more visualization \n",
    "dataset_outliers = pd.DataFrame.from_dict(data_dict,orient='index')\n",
    "\n",
    "# Boxplot of all the variables of the dataset \n",
    "boxplot = dataset_outliers.boxplot(figsize=(25,10),vert=False)"
   ]
  },
  {
   "cell_type": "code",
   "execution_count": 46,
   "id": "194e188b-0d9c-46b8-bc33-6ed20e090497",
   "metadata": {},
   "outputs": [
    {
     "data": {
      "image/png": "[encoded data removed]",
      "text/plain": [
       "<Figure size 1080x720 with 6 Axes>"
      ]
     },
     "metadata": {
      "needs_background": "light"
     },
     "output_type": "display_data"
    }
   ],
   "source": [
    "# Produce six boxplots \n",
    "fig, axs = plt.subplots(2, 3,figsize=(15,10))\n",
    "axs[0, 0].boxplot(dataset_outliers['restricted_stock'])\n",
    "axs[0, 0].set_title('Restricted stock')\n",
    "\n",
    "axs[0, 1].boxplot(dataset_outliers['exercised_stock_options'])\n",
    "axs[0, 1].set_title('Exercised stock options')\n",
    "\n",
    "axs[0, 2].boxplot(dataset_outliers['total_stock_value'])\n",
    "axs[0, 2].set_title('Total stock value')\n",
    "\n",
    "axs[1, 0].boxplot(dataset_outliers['bonus'])\n",
    "axs[1, 0].set_title('Bonus')\n",
    "\n",
    "axs[1, 1].boxplot(dataset_outliers['loan_advances'])\n",
    "axs[1, 1].set_title('Loan advances')\n",
    "\n",
    "axs[1, 2].boxplot(dataset_outliers['total_payments'])\n",
    "axs[1, 2].set_title('Total payments')\n",
    "\n",
    "# Hide x labels and tick labels for top plots and y ticks for right plots.\n",
    "for ax in axs.flat:\n",
    "    ax.label_outer()"
   ]
  },
  {
   "cell_type": "markdown",
   "id": "c12baf7d-118a-41d2-836a-87991b92df9b",
   "metadata": {},
   "source": [
    "<h3>2.2 Identify Outliers using Z-score</h3>\n",
    "<p>I decide to use the Z-score to identify the outliers. The Z-score is the number of standard deviations away from the mean that a certain data point is.</p><p>Since the dataset is very small and since there are big outliers, I decide to classify outlier all the people that have a value (in any feature) superior to a Z-score of 6. That is, six standard deviations away from the mean of the feature.</p>"
   ]
  },
  {
   "cell_type": "code",
   "execution_count": 47,
   "id": "18394a4c-43a7-48ee-ac33-c77c00d5adcd",
   "metadata": {},
   "outputs": [],
   "source": [
    "from scipy.stats import zscore\n",
    "\n",
    "dataset_outliers.pop('poi')\n",
    "z_scores = dataset_outliers.apply(zscore)\n",
    "# depending on your python/scipy version\n",
    "# z_scores = stats.zscore(dataset_outliers)\n",
    "abs_z_scores = np.abs(z_scores)\n",
    "filtered_entries = (abs_z_scores < 6).all(axis=1)"
   ]
  },
  {
   "cell_type": "code",
   "execution_count": 49,
   "id": "ca4e8610-2cbc-4fab-b686-c94b61d8992c",
   "metadata": {},
   "outputs": [],
   "source": [
    "outliers = filtered_entries[filtered_entries==False].index.values.tolist()"
   ]
  },
  {
   "cell_type": "code",
   "execution_count": 50,
   "id": "325fc75f-4cea-498b-a5a0-4de112f116bb",
   "metadata": {},
   "outputs": [
    {
     "data": {
      "text/plain": [
       "['LAVORATO JOHN J',\n",
       " 'SHAPIRO RICHARD S',\n",
       " 'DELAINEY DAVID W',\n",
       " 'LAY KENNETH L',\n",
       " 'KAMINSKI WINCENTY J',\n",
       " 'WHITE JR THOMAS E',\n",
       " 'BHATNAGAR SANJAY',\n",
       " 'HIRKO JOSEPH',\n",
       " 'FREVERT MARK A',\n",
       " 'MARTIN AMANDA K']"
      ]
     },
     "execution_count": 50,
     "metadata": {},
     "output_type": "execute_result"
    }
   ],
   "source": [
    "outliers"
   ]
  },
  {
   "cell_type": "markdown",
   "id": "4c36dfd4-5e11-4017-bd5a-f2c9ae844d1b",
   "metadata": {},
   "source": [
    "<p>This operation allows me to identify 10 people. I keep the people who are labeled as Person of Interest (POI) since this is the target variable and this information will be very precious to build our machine learning model.</p>"
   ]
  },
  {
   "cell_type": "code",
   "execution_count": 51,
   "id": "8998dbbc-6342-41dc-940c-4d59d323972e",
   "metadata": {},
   "outputs": [],
   "source": [
    "outliers_not_poi = []\n",
    "\n",
    "for person in data_dict.keys(): \n",
    "    if person in outliers and data_dict[person]['poi'] == False: \n",
    "        outliers_not_poi.append(person)"
   ]
  },
  {
   "cell_type": "code",
   "execution_count": 53,
   "id": "3a96456f-c645-48b2-9c0e-3a053fe86528",
   "metadata": {},
   "outputs": [
    {
     "data": {
      "text/plain": [
       "['LAVORATO JOHN J',\n",
       " 'SHAPIRO RICHARD S',\n",
       " 'KAMINSKI WINCENTY J',\n",
       " 'WHITE JR THOMAS E',\n",
       " 'BHATNAGAR SANJAY',\n",
       " 'FREVERT MARK A',\n",
       " 'MARTIN AMANDA K']"
      ]
     },
     "execution_count": 53,
     "metadata": {},
     "output_type": "execute_result"
    }
   ],
   "source": [
    "outliers_not_poi"
   ]
  },
  {
   "cell_type": "markdown",
   "id": "b18802c1-1c94-430d-ae91-2a9ac03ddbf7",
   "metadata": {},
   "source": [
    "<p>There are 9 outliers (not POI) that can be removed from the dataset.</p>"
   ]
  },
  {
   "cell_type": "markdown",
   "id": "6da55dfe-acd5-423e-b62d-ec87fd277852",
   "metadata": {},
   "source": [
    "<h3>2.3 Remove outliers</h3>"
   ]
  },
  {
   "cell_type": "code",
   "execution_count": 54,
   "id": "50a4c3f4-f67c-4137-ab18-b386b82b92ea",
   "metadata": {},
   "outputs": [],
   "source": [
    "# Function to remove outliers\n",
    "def remove_outlier(dict_object, keys):\n",
    "    \"\"\" removes list of outliers keys from dict object \"\"\"\n",
    "    for key in keys:\n",
    "        dict_object.pop(key, 0)\n",
    "        \n",
    "outliers_default = ['THE TRAVEL AGENCY IN THE PARK', 'LOCKHART EUGENE E']\n",
    "outliers_not_poi = outliers_not_poi + outliers_default\n",
    "\n",
    "remove_outlier(data_dict, outliers)"
   ]
  },
  {
   "cell_type": "code",
   "execution_count": 55,
   "id": "5dc90f85-a356-4c07-9574-7cde66b94975",
   "metadata": {},
   "outputs": [
    {
     "name": "stdout",
     "output_type": "stream",
     "text": [
      "Total number of data points: 135\n"
     ]
    }
   ],
   "source": [
    "# Checking the number of data points after the outliers have been removed \n",
    "data_dict.keys()\n",
    "print('Total number of data points: %d' % len(data_dict.keys()))"
   ]
  },
  {
   "cell_type": "code",
   "execution_count": 56,
   "id": "47bb1209-2a5c-4cfa-8b0b-57d28ddc0186",
   "metadata": {},
   "outputs": [
    {
     "data": {
      "image/png": "[encoded data removed]",
      "text/plain": [
       "<Figure size 1800x720 with 1 Axes>"
      ]
     },
     "metadata": {
      "needs_background": "light"
     },
     "output_type": "display_data"
    }
   ],
   "source": [
    "# Convert the dictionary into a dataframe to visualize the result without the outliers  \n",
    "dataset_no_outliers = pd.DataFrame.from_dict(data_dict,orient='index')\n",
    "\n",
    "# Boxplot of all the variables of the dataset \n",
    "boxplot = dataset_no_outliers.boxplot(figsize=(25,10),vert=False)"
   ]
  },
  {
   "cell_type": "code",
   "execution_count": 57,
   "id": "8877c064-8e7a-42aa-a167-64df4c455159",
   "metadata": {},
   "outputs": [
    {
     "data": {
      "image/png": "[encoded data removed]",
      "text/plain": [
       "<Figure size 1080x720 with 6 Axes>"
      ]
     },
     "metadata": {
      "needs_background": "light"
     },
     "output_type": "display_data"
    }
   ],
   "source": [
    "# Produce six boxplots \n",
    "fig, axs = plt.subplots(2, 3,figsize=(15,10))\n",
    "axs[0, 0].boxplot(dataset_no_outliers['restricted_stock'])\n",
    "axs[0, 0].set_title('Restricted stock')\n",
    "\n",
    "axs[0, 1].boxplot(dataset_no_outliers['exercised_stock_options'])\n",
    "axs[0, 1].set_title('Exercised stock options')\n",
    "\n",
    "axs[0, 2].boxplot(dataset_no_outliers['total_stock_value'])\n",
    "axs[0, 2].set_title('Total stock value')\n",
    "\n",
    "axs[1, 0].boxplot(dataset_no_outliers['bonus'])\n",
    "axs[1, 0].set_title('Bonus')\n",
    "\n",
    "axs[1, 1].boxplot(dataset_no_outliers['loan_advances'])\n",
    "axs[1, 1].set_title('Loan advances')\n",
    "\n",
    "axs[1, 2].boxplot(dataset_no_outliers['total_payments'])\n",
    "axs[1, 2].set_title('Total payments')\n",
    "\n",
    "# Hide x labels and tick labels for top plots and y ticks for right plots.\n",
    "for ax in axs.flat:\n",
    "    ax.label_outer()"
   ]
  },
  {
   "cell_type": "markdown",
   "id": "6bfb141f-d58f-4cc0-ac1d-02cd06052564",
   "metadata": {},
   "source": [
    "<p>As we can see, the biggest outliers have been removed but there are still some of them. However, since the dataset is very small, we can’t afford to remove more as too much information for the model will be lost (the dataset is now be composed of 135 employees).</p>"
   ]
  },
  {
   "cell_type": "markdown",
   "id": "41f40345-3502-4393-bfa1-0bb1d01d251d",
   "metadata": {},
   "source": [
    "<hr>\n",
    "<h2>Task 3. Create new features</h2>\n",
    "<h3>3.1 Create new calculated features</h3>\n",
    "<p>Now, I will create new features for improving the accuracy of the machine learning model we will build.</p>"
   ]
  },
  {
   "cell_type": "code",
   "execution_count": 58,
   "id": "f4e7da81-5fe3-4771-adef-53c790e090b8",
   "metadata": {},
   "outputs": [],
   "source": [
    "my_dataset = data_dict\n",
    "\n",
    "# Function to compute fraction \n",
    "def compute_fraction(x, y):\n",
    "    if x == 0 or y == 0:\n",
    "        return 0.\n",
    "    fraction = x / y\n",
    "    return fraction\n",
    "\n",
    "# Creating new variables by using the function compute_fraction\n",
    "for name in my_dataset:\n",
    "    data_point = my_dataset[name]\n",
    "    \n",
    "    from_poi_to_this_person = data_point[\"from_poi_to_this_person\"]\n",
    "    \n",
    "    to_messages = data_point[\"to_messages\"]\n",
    "    \n",
    "    fraction_from_poi = compute_fraction(from_poi_to_this_person, to_messages)\n",
    "    data_point[\"fraction_from_poi\"] = fraction_from_poi\n",
    "    \n",
    "    from_this_person_to_poi = data_point[\"from_this_person_to_poi\"]\n",
    "    from_messages = data_point[\"from_messages\"]\n",
    "    \n",
    "    fraction_to_poi = compute_fraction(from_this_person_to_poi, from_messages)\n",
    "    data_point[\"fraction_to_poi\"] = fraction_to_poi\n",
    "    \n",
    "    shared_receipt_with_poi = data_point[\"shared_receipt_with_poi\"]\n",
    "    \n",
    "    fraction_shared_poi = compute_fraction(shared_receipt_with_poi,to_messages)\n",
    "    \n",
    "    data_point[\"fraction_shared_poi\"] = fraction_shared_poi\n",
    "    bonus = data_point[\"bonus\"]\n",
    "    salary = data_point[\"salary\"]\n",
    "    \n",
    "    bonus_to_salary = compute_fraction(bonus, salary)\n",
    "    \n",
    "    data_point[\"bonus_to_salary\"] = bonus_to_salary\n",
    "    total_payments = data_point[\"total_payments\"]\n",
    "    \n",
    "    bonus_to_total = compute_fraction(bonus, total_payments)\n",
    "    data_point[\"bonus_to_total\"] = bonus_to_total\n",
    "    \n",
    "    exercised_stock_options= data_point[\"exercised_stock_options\"]\n",
    "    total_stock_value= data_point[\"total_stock_value\"]\n",
    "    \n",
    "    exercised_stock_options_fraction = compute_fraction(exercised_stock_options, total_stock_value)\n",
    "    data_point[\"exercised_stock_options_fraction\"] = exercised_stock_options_fraction\n",
    "    \n",
    "    perc_salary = compute_fraction(salary, total_payments)\n",
    "    data_point[\"perc_salary\"] = perc_salary   \n",
    "    \n",
    "    total_messages = to_messages + from_messages\n",
    "    data_point[\"total_messages\"] = total_messages\n",
    "    \n",
    "    total_messages_with_poi = from_this_person_to_poi + from_poi_to_this_person + shared_receipt_with_poi\n",
    "    data_point[\"total_messages_with_poi\"] = total_messages_with_poi\n",
    "    \n",
    "    message_shared_fraction = compute_fraction(total_messages_with_poi, total_messages)\n",
    "    data_point[\"message_shared_fraction\"] = message_shared_fraction"
   ]
  },
  {
   "cell_type": "markdown",
   "id": "a8c20b55-a291-4bf2-abb2-0a4273551ca4",
   "metadata": {},
   "source": [
    "<p>I've decided to create 10 new features: fraction_from_poi, fraction_to_poi, fraction_shared_poi, bonus_to_salary, bonus_to_total, exercised_stock_options_fraction, perc_salary, total_messages, total_messages_with_poi, message_shared_fraction</p> "
   ]
  },
  {
   "cell_type": "code",
   "execution_count": 59,
   "id": "7f6b4d14-2037-41fb-90c2-f828a8fe9f05",
   "metadata": {},
   "outputs": [
    {
     "data": {
      "text/plain": [
       "30"
      ]
     },
     "execution_count": 59,
     "metadata": {},
     "output_type": "execute_result"
    }
   ],
   "source": [
    "# Create new copies of feature list for grading\n",
    "my_feature_list = features_list + ['fraction_from_poi','fraction_to_poi', 'fraction_shared_poi','bonus_to_salary','bonus_to_total','exercised_stock_options_fraction', 'perc_salary', 'total_messages', 'total_messages_with_poi', 'message_shared_fraction']\n",
    "len(my_feature_list)"
   ]
  },
  {
   "cell_type": "markdown",
   "id": "96b5c6f0-771b-40fc-ad25-12ca1490c453",
   "metadata": {},
   "source": [
    "<h3>3.2 Select best features</h3>\n",
    "<p>I have to choose the best features for the model. The best features are the ones that explain the most the target variable (POI).<br>I decide to use Scikit learn’s SelectKbest to select the best features and decide to retain the first 5 features with the highest scores (among the 30 variables).</p>"
   ]
  },
  {
   "cell_type": "code",
   "execution_count": 60,
   "id": "9fac43d4-5a48-4570-8681-d22662f5a960",
   "metadata": {},
   "outputs": [
    {
     "name": "stdout",
     "output_type": "stream",
     "text": [
      "[2.23280674e+01 4.15379414e-02 1.90824904e+01 1.71292577e+00\n",
      " 9.94036109e+00 4.13934885e+00 1.24183007e-01 1.32991321e+01\n",
      " 1.50450665e+00 9.64545703e+00 7.18516304e-01 5.58901658e-01\n",
      " 1.05846211e+01 1.16294440e+01 1.25309830e+00 1.10426326e+01\n",
      " 8.63733427e-04 1.43282890e+01 2.47488303e+00 3.17193570e+00\n",
      " 1.61952299e+01 1.64122758e+01 1.32730977e+01 2.60255864e+01\n",
      " 3.63525622e-01 2.80656373e-01 4.71652713e-01 1.36687384e+01\n",
      " 1.85167969e+01]\n",
      "5 best features: dict_keys(['bonus_to_total', 'bonus', 'deferred_income', 'message_shared_fraction', 'fraction_shared_poi'])\n",
      "\n"
     ]
    }
   ],
   "source": [
    "# Get K-best features\n",
    "num_features = 5\n",
    "\n",
    "# Function using SelectKBest\n",
    "def get_k_best(data_dict, features_list, k):\n",
    "    \"\"\" runs scikit-learn's SelectKBest feature selection\n",
    "        returns dict where keys=features, values=scores\n",
    "    \"\"\"\n",
    "    data = featureFormat(data_dict, features_list)\n",
    "    labels, features = targetFeatureSplit(data)\n",
    "    \n",
    "    k_best = SelectKBest(k=k)\n",
    "    k_best.fit(features, labels)\n",
    "    scores = k_best.scores_\n",
    "    print(scores)\n",
    "    \n",
    "    unsorted_pairs = zip(features_list[1:], scores)\n",
    "    sorted_pairs = list(reversed(sorted(unsorted_pairs, key=lambda x: x[1])))\n",
    "    \n",
    "    k_best_features = dict(sorted_pairs[:k])\n",
    "    print (\"{0} best features: {1}\\n\".format(k, k_best_features.keys(), scores))\n",
    "    return k_best_features\n",
    "\n",
    "\n",
    "best_features = get_k_best(my_dataset, my_feature_list, num_features)\n",
    "my_feature_list = [target_label] + list(set(best_features.keys()))"
   ]
  },
  {
   "cell_type": "code",
   "execution_count": 61,
   "id": "52419dd2-6e4d-4412-8888-d18db630c4e3",
   "metadata": {},
   "outputs": [
    {
     "name": "stdout",
     "output_type": "stream",
     "text": [
      "5 selected features: ['bonus_to_total', 'bonus', 'fraction_shared_poi', 'message_shared_fraction', 'deferred_income']\n",
      "\n"
     ]
    }
   ],
   "source": [
    "# Print features\n",
    "print (\"{0} selected features: {1}\\n\".format(len(my_feature_list) - 1, my_feature_list[1:]))"
   ]
  },
  {
   "cell_type": "code",
   "execution_count": 62,
   "id": "3d5f1afb-7705-4dba-8273-cde86a5890ca",
   "metadata": {},
   "outputs": [],
   "source": [
    "# Extract the features specified in my_features_list\n",
    "data = featureFormat(my_dataset, my_feature_list,sort_keys = True)\n",
    "\n",
    "# Split into labels and features\n",
    "labels, features = targetFeatureSplit(data)\n",
    "\n",
    "# Scale features via min-max\n",
    "from sklearn import preprocessing\n",
    "scaler = preprocessing.MinMaxScaler()\n",
    "features = scaler.fit_transform(features)"
   ]
  },
  {
   "cell_type": "markdown",
   "id": "21ad267d-9e16-4ecc-b02e-7fc6f8982658",
   "metadata": {
    "tags": []
   },
   "source": [
    "<hr>\n",
    "<h2>Task 4: Try a variety of classifiers</h2>\n",
    "<p>To select the best model, we use the evaluate_clf function. It splits the dataset into training and test sets, fits each classifier to the training set and at the end evaluates the model on the test set with the precision and recall metrics.</p>"
   ]
  },
  {
   "cell_type": "code",
   "execution_count": 63,
   "id": "b1674253-a3a2-4b6a-8fef-7ecb5caa7685",
   "metadata": {},
   "outputs": [],
   "source": [
    "# Gaussian Naive Bayes Classifier\n",
    "from sklearn.naive_bayes import GaussianNB\n",
    "g_clf = GaussianNB()\n",
    "\n",
    "# Logistic Regression Classifier\n",
    "from sklearn.linear_model import LogisticRegression\n",
    "l_clf = Pipeline(steps=[\n",
    "        ('scaler', StandardScaler()),\n",
    "        ('classifier', LogisticRegression(C=1e-08, class_weight=None, dual=False, fit_intercept=True, intercept_scaling=1, \n",
    "max_iter=100, multi_class='ovr', penalty='l2', random_state=42, solver='liblinear', tol=0.001, verbose=0))])\n",
    "\n",
    "# K-means Clustering\n",
    "from sklearn.cluster import KMeans\n",
    "k_clf = KMeans(n_clusters=2, tol=0.001)\n",
    "\n",
    "# Support Vector Machine Classifier\n",
    "from sklearn.svm import SVC\n",
    "s_clf = SVC(kernel='rbf', C=1000,gamma = 0.0001,random_state = 42, class_weight = 'balanced')\n",
    "\n",
    "# Random Forest\n",
    "from sklearn.ensemble import RandomForestClassifier\n",
    "rf_clf = RandomForestClassifier(max_depth = 5,max_features = 'sqrt',n_estimators = 10, random_state = 42)\n",
    "\n",
    "# Gradient Boosting Classifier\n",
    "from sklearn.ensemble  import GradientBoostingClassifier\n",
    "gb_clf = GradientBoostingClassifier(loss='deviance', learning_rate=0.1, n_estimators=100,random_state = 42)"
   ]
  },
  {
   "cell_type": "code",
   "execution_count": 65,
   "id": "0c1e0014-6a37-4800-bfb2-f603be1f27e9",
   "metadata": {},
   "outputs": [
    {
     "name": "stdout",
     "output_type": "stream",
     "text": [
      "\n",
      "=> Evaluation of Gaussian Naive Bayes Classifier\n",
      "GaussianNB()\n",
      "\n",
      "Processing....................................................................................................done.\n",
      "\n",
      "precision: 0.39549697802197803\n",
      "recall:    0.30556547619047614\n",
      "\n",
      "=> Evaluation of Logistic Regression Classifier\n",
      "Pipeline(steps=[('scaler', StandardScaler()),\n",
      "                ('classifier',\n",
      "                 LogisticRegression(C=1e-08, multi_class='ovr', random_state=42,\n",
      "                                    solver='liblinear', tol=0.001))])\n",
      "\n",
      "Processing....................................................................................................done.\n",
      "\n",
      "precision: 0.45687226662226665\n",
      "recall:    0.4431132756132756\n",
      "\n",
      "=> Evaluation of K-means Clustering\n",
      "KMeans(n_clusters=2, tol=0.001)\n",
      "\n",
      "Processing....................................................................................................done.\n",
      "\n",
      "precision: 0.11030487373549662\n",
      "recall:    0.5033698412698412\n",
      "\n",
      "=> Evaluation of Support Vector Machine Classifier\n",
      "SVC(C=1000, class_weight='balanced', gamma=0.0001, random_state=42)\n",
      "\n",
      "Processing....................................................................................................done.\n",
      "\n",
      "precision: 0.23243064797338456\n",
      "recall:    0.8477599206349207\n",
      "\n",
      "=> Evaluation of Random Forest\n",
      "RandomForestClassifier(max_depth=5, max_features='sqrt', n_estimators=10,\n",
      "                       random_state=42)\n",
      "\n",
      "Processing....................................................................................................done.\n",
      "\n",
      "precision: 0.4361015873015873\n",
      "recall:    0.23730039682539683\n",
      "\n",
      "=> Evaluation of Gradient Boosting Classifier\n",
      "GradientBoostingClassifier(random_state=42)\n",
      "\n",
      "Processing....................................................................................................done.\n",
      "\n",
      "precision: 0.38305917138417134\n",
      "recall:    0.3040984126984127\n"
     ]
    },
    {
     "data": {
      "text/plain": [
       "(0.38305917138417134, 0.3040984126984127)"
      ]
     },
     "execution_count": 65,
     "metadata": {},
     "output_type": "execute_result"
    }
   ],
   "source": [
    "# Evaluate function\n",
    "def evaluate_clf(clf, features, labels, num_iters=1000, test_size=0.3):\n",
    "    print (clf)\n",
    "    accuracy = []\n",
    "    precision = []\n",
    "    recall = []\n",
    "    first = True\n",
    "    for trial in range(num_iters):\n",
    "        features_train, features_test, labels_train, labels_test =\\\n",
    "            train_test_split(features, labels, test_size=test_size)\n",
    "        clf.fit(features_train, labels_train)\n",
    "        predictions = clf.predict(features_test)\n",
    "        accuracy.append(accuracy_score(labels_test, predictions))\n",
    "        precision.append(precision_score(labels_test, predictions))\n",
    "        recall.append(recall_score(labels_test, predictions))\n",
    "        if trial % 10 == 0:\n",
    "            if first:\n",
    "                sys.stdout.write('\\nProcessing')\n",
    "            sys.stdout.write('.')\n",
    "            sys.stdout.flush()\n",
    "            first = False\n",
    "\n",
    "    print (\"done.\\n\")\n",
    "    print (\"precision: {}\".format(mean(precision)))\n",
    "    print (\"recall:    {}\".format(mean(recall)))\n",
    "    return mean(precision), mean(recall)\n",
    "\n",
    "\n",
    "# Evaluate all functions\n",
    "print(\"\\n=> Evaluation of Gaussian Naive Bayes Classifier\")\n",
    "evaluate_clf(g_clf, features, labels)\n",
    "print(\"\\n=> Evaluation of Logistic Regression Classifier\")\n",
    "evaluate_clf(l_clf, features, labels)\n",
    "print(\"\\n=> Evaluation of K-means Clustering\")\n",
    "evaluate_clf(k_clf, features, labels)\n",
    "print(\"\\n=> Evaluation of Support Vector Machine Classifier\")\n",
    "evaluate_clf(s_clf, features, labels)\n",
    "print(\"\\n=> Evaluation of Random Forest\")\n",
    "evaluate_clf(rf_clf, features, labels)\n",
    "print(\"\\n=> Evaluation of Gradient Boosting Classifier\")\n",
    "evaluate_clf(gb_clf, features, labels)"
   ]
  },
  {
   "cell_type": "markdown",
   "id": "831b09de-85a9-4e29-ab94-38c04ef547ce",
   "metadata": {},
   "source": [
    "<p>-> The results show us that the Logistic Regression has the best precision and recall metrucs. Thus, I will choose this model.</p>"
   ]
  },
  {
   "cell_type": "code",
   "execution_count": 66,
   "id": "cec0682d-6142-40ec-9428-31696d7a184b",
   "metadata": {},
   "outputs": [],
   "source": [
    "# Select Logistic Regression as final algorithm\n",
    "clf = l_clf"
   ]
  },
  {
   "cell_type": "code",
   "execution_count": 67,
   "id": "91a865ed-c085-4460-aa46-6edb82319150",
   "metadata": {},
   "outputs": [],
   "source": [
    "# Dump the classifier, dataset and features_list so anyone can run/check the results\n",
    "pickle.dump(clf, open(\"my_classifier.pkl\", \"wb\"))\n",
    "pickle.dump(my_dataset, open(\"my_dataset.pkl\", \"wb\"))\n",
    "pickle.dump(my_feature_list, open(\"my_feature_list.pkl\", \"wb\"))"
   ]
  },
  {
   "cell_type": "markdown",
   "id": "3e093a70-3b7f-4d73-adb8-23f3a9365ec7",
   "metadata": {},
   "source": [
    "<hr>\n",
    "<h2>Task 5: Tune the classifier to achieve better than .42 precision and recall</h2>\n",
    "<p>Achieve better than .42 precision and recall by using the testing script.</p>"
   ]
  },
  {
   "cell_type": "markdown",
   "id": "49cd4ad4-0dec-48d5-ba62-67412d3941f3",
   "metadata": {},
   "source": [
    "<h3>5.1 Split the dataset into training and test sets</h3>\n",
    "<p>I split the dataset into a training set (70% of the data) and a test set (30% of the data).</p>"
   ]
  },
  {
   "cell_type": "code",
   "execution_count": 68,
   "id": "791be344-a27d-434d-b8d5-ffea450e8cd6",
   "metadata": {},
   "outputs": [],
   "source": [
    "features_train, features_test, labels_train, labels_test = \\\n",
    "    train_test_split(features, labels, test_size=0.3, random_state=42)"
   ]
  },
  {
   "cell_type": "markdown",
   "id": "878329db-d30d-4b6f-80b1-bb7b0702bc7f",
   "metadata": {},
   "source": [
    "<h3>5.2 Find the best parameters with GridSearch</h3>\n",
    "<p>To find the best parameters for logistic regression, I perform a multi-metric evaluation on cross_val_score and GridSearchCV. \n",
    "The Stratified K-Folds cross-validator is used for the cross-validation strategy with 10 folds.<br>The chosen scorers are the following ones: precision_score, recall_score, accuracy_score and f1_score.<br>Ultimately, I choose the f1_score to refit the estimator with the parameters setting that has the best cross-validated f1_score. \n",
    "</p>"
   ]
  },
  {
   "cell_type": "code",
   "execution_count": 69,
   "id": "0381c738-68c8-499d-addb-910520d0def8",
   "metadata": {},
   "outputs": [],
   "source": [
    "# Create a the logistic regression parameters grid\n",
    "param_grid = [\n",
    "    {'penalty' : ['l1', 'l2'],\n",
    "    'C' : np.logspace(-4, 4, 20),\n",
    "    'solver' : ['liblinear', 'lbfgs', 'newton-cg'],\n",
    "    }\n",
    "]\n",
    "\n",
    "# Add the scorers in a dict\n",
    "scorers = {\n",
    "    'precision_score': make_scorer(precision_score),\n",
    "    'recall_score': make_scorer(recall_score),\n",
    "    'accuracy_score': make_scorer(accuracy_score),\n",
    "    'f1_score': make_scorer(f1_score)\n",
    "}\n",
    "\n",
    "# Function to run StratifiedKFold and GridSearchCV and produce a confusion matrix\n",
    "def grid_search_parameters(x, y): \n",
    "    cv = StratifiedKFold(n_splits=10)\n",
    "    clf = GridSearchCV(LogisticRegression(), param_grid, scoring=scorers, refit='f1_score', cv=cv, return_train_score=True, n_jobs=-1)\n",
    "    clf.fit(x,y)\n",
    "        \n",
    "    # make the predictions\n",
    "    y_pred = clf.predict(features_test)\n",
    "    print('Best parameters using f1-score')\n",
    "    print(clf.best_params_)\n",
    "        \n",
    "    # confusion matrix on the test data.\n",
    "    print('Confusion matrix of Logistic Regression optimized for f1-score on the test set')\n",
    "    print(pd.DataFrame(confusion_matrix(labels_test, y_pred), columns=['pred_neg', 'pred_pos'], index=['neg', 'pos']))\n",
    "        \n",
    "    return clf.best_params_"
   ]
  },
  {
   "cell_type": "code",
   "execution_count": 70,
   "id": "460dfe5c-217f-4b1f-b3a5-c3ffda9de7b7",
   "metadata": {},
   "outputs": [
    {
     "name": "stdout",
     "output_type": "stream",
     "text": [
      "Best parameters using f1-score\n",
      "{'C': 1.623776739188721, 'penalty': 'l1', 'solver': 'liblinear'}\n",
      "Confusion matrix of Logistic Regression optimized for f1-score on the test set\n",
      "     pred_neg  pred_pos\n",
      "neg        33         1\n",
      "pos         5         2\n"
     ]
    }
   ],
   "source": [
    "# Run GridSearchCV \n",
    "grid_search_clf = grid_search_parameters(features_train, labels_train)"
   ]
  },
  {
   "cell_type": "code",
   "execution_count": 71,
   "id": "01998176-0b59-46c1-ad81-090c22446082",
   "metadata": {},
   "outputs": [
    {
     "data": {
      "text/plain": [
       "{'C': 1.623776739188721, 'penalty': 'l1', 'solver': 'liblinear'}"
      ]
     },
     "execution_count": 71,
     "metadata": {},
     "output_type": "execute_result"
    }
   ],
   "source": [
    "# Print the best scores for the logistic regression \n",
    "grid_search_clf"
   ]
  },
  {
   "cell_type": "markdown",
   "id": "2c8cf8ec-67c6-4ebf-9603-cfcb76698b79",
   "metadata": {},
   "source": [
    "<h3>5.3 Fit the model</h3>\n",
    "<p>I can now fit our logistic regression with the best parameters found by GridSearchCV.</p>"
   ]
  },
  {
   "cell_type": "code",
   "execution_count": 72,
   "id": "ce2a7280-a6c6-4747-9fd6-24f6e96fbf40",
   "metadata": {},
   "outputs": [],
   "source": [
    "l_clf = Pipeline(steps=[\n",
    "        ('scaler', StandardScaler()),\n",
    "        ('classifier', LogisticRegression(C=grid_search_clf['C'], class_weight='balanced', dual=False, fit_intercept=True, intercept_scaling=1,\n",
    "                                          max_iter=100, multi_class='ovr', penalty=grid_search_clf['penalty'], \n",
    "                                          random_state=42, solver=grid_search_clf['solver'], tol=0.001, verbose=0))])"
   ]
  },
  {
   "cell_type": "code",
   "execution_count": 73,
   "id": "c431e25f-56dd-4618-960d-7f925efe7aa8",
   "metadata": {},
   "outputs": [
    {
     "data": {
      "text/plain": [
       "Pipeline(steps=[('scaler', StandardScaler()),\n",
       "                ('classifier',\n",
       "                 LogisticRegression(C=1.623776739188721,\n",
       "                                    class_weight='balanced', multi_class='ovr',\n",
       "                                    penalty='l1', random_state=42,\n",
       "                                    solver='liblinear', tol=0.001))])"
      ]
     },
     "execution_count": 73,
     "metadata": {},
     "output_type": "execute_result"
    }
   ],
   "source": [
    "l_clf.fit(features_train, labels_train)"
   ]
  },
  {
   "cell_type": "code",
   "execution_count": 74,
   "id": "05ccabd6-9110-4e23-9704-79db925e3b25",
   "metadata": {},
   "outputs": [
    {
     "data": {
      "text/plain": [
       "0.7560975609756098"
      ]
     },
     "execution_count": 74,
     "metadata": {},
     "output_type": "execute_result"
    }
   ],
   "source": [
    "# Accuracy score \n",
    "l_clf.score(features_test, labels_test)"
   ]
  },
  {
   "cell_type": "code",
   "execution_count": 75,
   "id": "5a89c3e1-24a0-4cbf-b42c-5c187270401e",
   "metadata": {},
   "outputs": [],
   "source": [
    "clf = l_clf"
   ]
  },
  {
   "cell_type": "markdown",
   "id": "56e98a32-53db-4fc7-b740-2015cb4c4ed4",
   "metadata": {
    "tags": []
   },
   "source": [
    "<hr>\n",
    "<h2>Task 6: Dump and Evaluate the classifier</h2>\n",
    "<p>Dump the classifier, dataset, and features_list so anyone can check my results.</p>"
   ]
  },
  {
   "cell_type": "code",
   "execution_count": 76,
   "id": "34c2549d-c1b3-4744-b636-a8537e890f0f",
   "metadata": {},
   "outputs": [],
   "source": [
    "from tester import dump_classifier_and_data\n",
    "\n",
    "dump_classifier_and_data(clf, my_dataset, features_list)"
   ]
  },
  {
   "cell_type": "code",
   "execution_count": 77,
   "id": "6529adf3-7e85-49a2-8ccf-3f52b5995688",
   "metadata": {},
   "outputs": [
    {
     "name": "stdout",
     "output_type": "stream",
     "text": [
      "Pipeline(steps=[('scaler', StandardScaler()),\n",
      "                ('classifier',\n",
      "                 LogisticRegression(C=1.623776739188721,\n",
      "                                    class_weight='balanced', multi_class='ovr',\n",
      "                                    penalty='l1', random_state=42,\n",
      "                                    solver='liblinear', tol=0.001))])\n",
      "\tAccuracy: 0.82414\tPrecision: 0.42558\tRecall: 0.66050\tF1: 0.51763\tF2: 0.59483\n",
      "\tTotal predictions: 14000\tTrue positives: 1321\tFalse positives: 1783\tFalse negatives:  679\tTrue negatives: 10217\n",
      "\n"
     ]
    }
   ],
   "source": [
    "#TESTER.PY\n",
    "\n",
    "#!/usr/bin/pickle python -W ignore::DeprecationWarning\n",
    "\n",
    "\"\"\" a basic script for importing student's POI identifier,\n",
    "    and checking the results that they get from it \n",
    "    requires that the algorithm, dataset, and features list\n",
    "    be written to my_classifier.pkl, my_dataset.pkl, and\n",
    "    my_feature_list.pkl, respectively\n",
    "    that process should happen at the end of poi_id.py\n",
    "\"\"\"\n",
    "\n",
    "import pickle\n",
    "import sys\n",
    "sys.path.append(\"../tools/\")\n",
    "from feature_format import featureFormat, targetFeatureSplit\n",
    "\n",
    "from sklearn.model_selection import StratifiedShuffleSplit\n",
    "\n",
    "\n",
    "PERF_FORMAT_STRING = \"\\\n",
    "\\tAccuracy: {:>0.{display_precision}f}\\tPrecision: {:>0.{display_precision}f}\\t\\\n",
    "Recall: {:>0.{display_precision}f}\\tF1: {:>0.{display_precision}f}\\tF2: {:>0.{display_precision}f}\"\n",
    "RESULTS_FORMAT_STRING = \"\\tTotal predictions: {:4d}\\tTrue positives: {:4d}\\tFalse positives: {:4d}\\\n",
    "\\tFalse negatives: {:4d}\\tTrue negatives: {:4d}\"\n",
    "\n",
    "def test_classifier(clf, dataset, feature_list, folds = 1000):\n",
    "    data = featureFormat(dataset, feature_list, sort_keys = True)\n",
    "    labels, features = targetFeatureSplit(data)\n",
    "    cv = StratifiedShuffleSplit(n_splits=folds, random_state=42)\n",
    "    \n",
    "    true_negatives = 0\n",
    "    false_negatives = 0\n",
    "    true_positives = 0\n",
    "    false_positives = 0\n",
    "    for train_idx, test_idx in cv.split(features, labels):\n",
    "        features_train = []\n",
    "        features_test  = []\n",
    "        labels_train   = []\n",
    "        labels_test    = []\n",
    "        for ii in train_idx:\n",
    "            features_train.append( features[ii] )\n",
    "            labels_train.append( labels[ii] )\n",
    "        for jj in test_idx:\n",
    "            features_test.append( features[jj] )\n",
    "            labels_test.append( labels[jj] )\n",
    "        \n",
    "        ### fit the classifier using training set, and test on test set\n",
    "        clf.fit(features_train, labels_train)\n",
    "        predictions = clf.predict(features_test)\n",
    "        for prediction, truth in zip(predictions, labels_test):\n",
    "            if prediction == 0 and truth == 0:\n",
    "                true_negatives += 1\n",
    "            elif prediction == 0 and truth == 1:\n",
    "                false_negatives += 1\n",
    "            elif prediction == 1 and truth == 0:\n",
    "                false_positives += 1\n",
    "            elif prediction == 1 and truth == 1:\n",
    "                true_positives += 1\n",
    "            else:\n",
    "                print (\"Warning: Found a predicted label not == 0 or 1.\")\n",
    "                print (\"All predictions should take value 0 or 1.\")\n",
    "                print (\"Evaluating performance for processed predictions:\")\n",
    "                break\n",
    "    try:\n",
    "        total_predictions = true_negatives + false_negatives + false_positives + true_positives\n",
    "        accuracy = 1.0*(true_positives + true_negatives)/total_predictions\n",
    "        precision = 1.0*true_positives/(true_positives+false_positives)\n",
    "        recall = 1.0*true_positives/(true_positives+false_negatives)\n",
    "        f1 = 2.0 * true_positives/(2*true_positives + false_positives+false_negatives)\n",
    "        f2 = (1+2.0*2.0) * precision*recall/(4*precision + recall)\n",
    "        print (clf)\n",
    "        print (PERF_FORMAT_STRING.format(accuracy, precision, recall, f1, f2, display_precision = 5))\n",
    "        print (RESULTS_FORMAT_STRING.format(total_predictions, true_positives, false_positives, false_negatives, true_negatives))\n",
    "        print (\"\")\n",
    "    except:\n",
    "        print (\"Got a divide by zero when trying out:\", clf)\n",
    "        print (\"Precision or recall may be undefined due to a lack of true positive predicitons.\")\n",
    "\n",
    "CLF_PICKLE_FILENAME = \"my_classifier.pkl\"\n",
    "DATASET_PICKLE_FILENAME = \"my_dataset.pkl\"\n",
    "FEATURE_LIST_FILENAME = \"my_feature_list.pkl\"\n",
    "\n",
    "def dump_classifier_and_data(clf, dataset, feature_list):\n",
    "    with open(CLF_PICKLE_FILENAME, \"wb\") as clf_outfile:\n",
    "        pickle.dump(clf, clf_outfile)\n",
    "    with open(DATASET_PICKLE_FILENAME, \"wb\") as dataset_outfile:\n",
    "        pickle.dump(dataset, dataset_outfile)\n",
    "    with open(FEATURE_LIST_FILENAME, \"wb\") as featurelist_outfile:\n",
    "        pickle.dump(feature_list, featurelist_outfile)\n",
    "\n",
    "def load_classifier_and_data():\n",
    "    with open(CLF_PICKLE_FILENAME, \"rb\") as clf_infile:\n",
    "        clf = pickle.load(clf_infile)\n",
    "    with open(DATASET_PICKLE_FILENAME, \"rb\") as dataset_infile:\n",
    "        dataset = pickle.load(dataset_infile)\n",
    "    with open(FEATURE_LIST_FILENAME, \"rb\") as featurelist_infile:\n",
    "        feature_list = pickle.load(featurelist_infile)\n",
    "    return clf, dataset, feature_list\n",
    "\n",
    "def main():\n",
    "    ### load up student's classifier, dataset, and feature_list\n",
    "    clf, dataset, feature_list = load_classifier_and_data()\n",
    "    ### Run testing script\n",
    "    test_classifier(clf, dataset, feature_list)\n",
    "\n",
    "if __name__ == '__main__':\n",
    "    main()"
   ]
  }
 ],
 "metadata": {
  "kernelspec": {
   "display_name": "Python 3",
   "language": "python",
   "name": "python3"
  },
  "language_info": {
   "codemirror_mode": {
    "name": "ipython",
    "version": 3
   },
   "file_extension": ".py",
   "mimetype": "text/x-python",
   "name": "python",
   "nbconvert_exporter": "python",
   "pygments_lexer": "ipython3",
   "version": "3.8.10"
  }
 },
 "nbformat": 4,
 "nbformat_minor": 5
}
